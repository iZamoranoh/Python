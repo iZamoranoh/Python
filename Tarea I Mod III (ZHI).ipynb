{
 "cells": [
  {
   "cell_type": "markdown",
   "metadata": {},
   "source": [
    "## Tarea -- para el Domingo 15 de enero 2016 hasta 11:59:59 CST en dropbox\n",
    "\n",
    "+ Genera una colección de documentos conformada por 10 documentos (titulares de sitios web de noticias son muy útiles), indicar la fuente de los documentos (url) \n",
    "+ Utiliza el proceso estandar de minado de texto para limpiar y tokenizar los documentos de la colección. Cada parte del proceso debe ser una función\n",
    "+ Genera un query de consulta de al menos 3 términos (otro titular) \n",
    "+ Imprime la colección de documentos ordenada por relevancia TF/IDF incluynedo el valor de TF/IDF que tu código generó\n",
    "+ Agrega el código que utilizaste para tu sistema IR \n",
    "\n",
    "### Puntos a calificar \n",
    "\n",
    "+ La colección es de 10 documentos +0.5\n",
    "+ Se quitaron signos de puntuación y acentos? +0.5\n",
    "+ Se convirtió todo a minúsculas? +0.5\n",
    "+ Se eliminaron números (si había)? +0.5\n",
    "+ Se utilizó una lista de stopwords? propia: +1, genérica: +0.5\n",
    "+ Justificación de uso o no uso de stemming y/o lemmatization: +0.5\n",
    "+ Colección ordenada por relevancia TF/IDF incluido el valor de TF/IDF: +4 \n",
    "+ Se agregó el código utilizado: +3\n",
    "\n",
    "~ se puede obtener 10.5\n",
    "\n",
    "~ reviso que los códigos no sean copiados!\n",
    "\n",
    "~ regreso tareas con feedback el miércoles 18 de enero (antes de la clase)"
   ]
  },
  {
   "cell_type": "markdown",
   "metadata": {},
   "source": [
    "## Tarea realizada por: Itzel Zamorano Hernández\n",
    "\n",
    "## Documentos \n",
    "\n",
    "\n",
    "### Entrepeneur \n",
    "\n",
    "1.- 4 pasos para validar tu idea de negocio sin gastar un peso (https://www.entrepreneur.com/article/283756)\n",
    "\n",
    "2.- La fase de la idea de negocio (https://www.entrepreneur.com/article/267637)\n",
    "\n",
    "3.- Cómo empezar tu negocio de vending machines sin dinero (https://www.entrepreneur.com/article/287682)\n",
    "\n",
    "4.- Cómo saber si tu negocio es realmente rentable (https://www.entrepreneur.com/article/285774?utm_source=HowTo&utm_medium=site&utm_campaign=iScroll)\n",
    "\n",
    "5.- Última llamada: empieza tu negocio digital (https://www.entrepreneur.com/article/287779)\n",
    "\n",
    "6.- Así se atrae la buena suerte en los negocios (https://www.entrepreneur.com/article/264664)\n",
    "\n",
    "7.- Las 3 claves para que tu startup no muera (https://www.entrepreneur.com/article/287753)\n",
    "\n",
    "8.- 6 pasos para iniciar un negocio desde cero (https://www.entrepreneur.com/article/267997)\n",
    "\n",
    "9.- Cómo iniciar un negocio con menos de dos mil pesos (https://www.entrepreneur.com/article/277951)\n",
    "\n",
    "10.- 5 pasos para iniciar el negocio más rentable del mundo (https://www.entrepreneur.com/article/276447)\n",
    "\n",
    "### Forbes (Artículo de Prueba)\n",
    "\n",
    "1.- La startup que (literalmente) convierte tus ideas en dinero \n",
    " (http://www.forbes.com.mx/la-startup-que-literalmente-convierte-tus-ideas-en-dinero/#gs.zVlf0oY)"
   ]
  },
  {
   "cell_type": "code",
   "execution_count": 1,
   "metadata": {
    "collapsed": true
   },
   "outputs": [],
   "source": [
    "# Lista de Artículos\n",
    "lista = \"4 pasos para validar tu idea de negocio sin gastar un peso, La fase de la idea de negocio, \\\n",
    "Cómo empezar tu negocio de vending machines sin dinero, Cómo saber si tu negocio es realmente rentable, \\\n",
    "Última llamada: empieza tu negocio digital, Así se atrae la buena suerte en los negocios, \\\n",
    "Las 3 claves para que tu startup no muera, 6 pasos para iniciar un negocio desde cero, \\\n",
    "Cómo iniciar un negocio con menos de dos mil pesos, 5 pasos para iniciar el negocio más rentable del mundo \""
   ]
  },
  {
   "cell_type": "code",
   "execution_count": 2,
   "metadata": {
    "collapsed": false
   },
   "outputs": [
    {
     "name": "stdout",
     "output_type": "stream",
     "text": [
      "4 pasos para validar tu idea de negocio sin gastar un peso, La fase de la idea de negocio, Cómo empezar tu negocio de vending machines sin dinero, Cómo saber si tu negocio es realmente rentable, Última llamada: empieza tu negocio digital, Así se atrae la buena suerte en los negocios, Las 3 claves para que tu startup no muera, 6 pasos para iniciar un negocio desde cero, Cómo iniciar un negocio con menos de dos mil pesos, 5 pasos para iniciar el negocio más rentable del mundo \n"
     ]
    }
   ],
   "source": [
    "print lista"
   ]
  },
  {
   "cell_type": "code",
   "execution_count": 3,
   "metadata": {
    "collapsed": false
   },
   "outputs": [],
   "source": [
    "# Función de Eliminación de Acentos\n",
    "def sinAcentos(cadena):\n",
    "    import unicodedata\n",
    "    str1 = unicode(cadena,'utf-8')\n",
    "    cadena = unicodedata.normalize('NFD', str1).encode('ascii', 'ignore')     \n",
    "    cadena = cadena.lower()\n",
    "    return cadena\n",
    "    #print cadena\n",
    "    \n",
    "lista1= sinAcentos(lista)  "
   ]
  },
  {
   "cell_type": "code",
   "execution_count": 4,
   "metadata": {
    "collapsed": false
   },
   "outputs": [],
   "source": [
    "# Función de remplazo por diccionario \n",
    "dicNum = ['1','2','3','4','5','6','7','8','9',':',',','¡','!','¿','?','(',')']\n",
    "def sinDicc(cadena,diccionario):\n",
    "    for i in range(len(diccionario)):\n",
    "        elemento = diccionario[i]\n",
    "        remplazar = \"\"\n",
    "        cadena = cadena.replace(elemento, remplazar)\n",
    "        cadena = \" \".join(cadena.split())\n",
    "        if i == len(diccionario)-1:\n",
    "            return cadena\n",
    "            \n",
    "lista2 = sinDicc(lista1,dicNum)"
   ]
  },
  {
   "cell_type": "code",
   "execution_count": 5,
   "metadata": {
    "collapsed": false
   },
   "outputs": [
    {
     "name": "stdout",
     "output_type": "stream",
     "text": [
      "pasos para validar tu idea de negocio sin gastar un peso la fase de la idea de negocio como empezar tu negocio de vending machines sin dinero como saber si tu negocio es realmente rentable ultima llamada empieza tu negocio digital asi se atrae la buena suerte en los negocios las claves para que tu startup no muera pasos para iniciar un negocio desde cero como iniciar un negocio con menos de dos mil pesos pasos para iniciar el negocio mas rentable del mundo\n"
     ]
    }
   ],
   "source": [
    "print lista2"
   ]
  },
  {
   "cell_type": "code",
   "execution_count": 6,
   "metadata": {
    "collapsed": false
   },
   "outputs": [],
   "source": [
    "# Función de Separación\n",
    "def separacion(cadena,separador):\n",
    "    keywords = cadena.split(separador)\n",
    "    return keywords\n",
    "\n",
    "lista3 = separacion(lista2,\" \")"
   ]
  },
  {
   "cell_type": "code",
   "execution_count": 7,
   "metadata": {
    "collapsed": false
   },
   "outputs": [
    {
     "name": "stdout",
     "output_type": "stream",
     "text": [
      "['pasos', 'para', 'validar', 'tu', 'idea', 'de', 'negocio', 'sin', 'gastar', 'un', 'peso', 'la', 'fase', 'de', 'la', 'idea', 'de', 'negocio', 'como', 'empezar', 'tu', 'negocio', 'de', 'vending', 'machines', 'sin', 'dinero', 'como', 'saber', 'si', 'tu', 'negocio', 'es', 'realmente', 'rentable', 'ultima', 'llamada', 'empieza', 'tu', 'negocio', 'digital', 'asi', 'se', 'atrae', 'la', 'buena', 'suerte', 'en', 'los', 'negocios', 'las', 'claves', 'para', 'que', 'tu', 'startup', 'no', 'muera', 'pasos', 'para', 'iniciar', 'un', 'negocio', 'desde', 'cero', 'como', 'iniciar', 'un', 'negocio', 'con', 'menos', 'de', 'dos', 'mil', 'pesos', 'pasos', 'para', 'iniciar', 'el', 'negocio', 'mas', 'rentable', 'del', 'mundo']\n"
     ]
    }
   ],
   "source": [
    "print lista3"
   ]
  },
  {
   "cell_type": "code",
   "execution_count": 8,
   "metadata": {
    "collapsed": false
   },
   "outputs": [
    {
     "name": "stdout",
     "output_type": "stream",
     "text": [
      "['pasos' 'para' 'validar' 'tu' 'idea' 'de' 'negocio' 'sin' 'gastar' 'un'\n",
      " 'peso' 'la' 'fase' 'de' 'la' 'idea' 'de' 'negocio' 'como' 'empezar' 'tu'\n",
      " 'negocio' 'de' 'vending' 'machines' 'sin' 'dinero' 'como' 'saber' 'si'\n",
      " 'tu' 'negocio' 'es' 'realmente' 'rentable' 'ultima' 'llamada' 'empieza'\n",
      " 'tu' 'negocio' 'digital' 'asi' 'se' 'atrae' 'la' 'buena' 'suerte' 'en'\n",
      " 'los' 'negocios' 'las' 'claves' 'para' 'que' 'tu' 'startup' 'no' 'muera'\n",
      " 'pasos' 'para' 'iniciar' 'un' 'negocio' 'desde' 'cero' 'como' 'iniciar'\n",
      " 'un' 'negocio' 'con' 'menos' 'de' 'dos' 'mil' 'pesos' 'pasos' 'para'\n",
      " 'iniciar' 'el' 'negocio' 'mas' 'rentable' 'del' 'mundo']\n"
     ]
    }
   ],
   "source": [
    "import numpy as np\n",
    "from numpy import array\n",
    "lista4 = array(lista3)\n",
    "print lista4"
   ]
  },
  {
   "cell_type": "code",
   "execution_count": 9,
   "metadata": {
    "collapsed": false
   },
   "outputs": [
    {
     "name": "stdout",
     "output_type": "stream",
     "text": [
      "['asi' 'atrae' 'buena' 'cero' 'claves' 'como' 'con' 'de' 'del' 'desde'\n",
      " 'digital' 'dinero' 'dos' 'el' 'empezar' 'empieza' 'en' 'es' 'fase'\n",
      " 'gastar' 'idea' 'iniciar' 'la' 'las' 'llamada' 'los' 'machines' 'mas'\n",
      " 'menos' 'mil' 'muera' 'mundo' 'negocio' 'negocios' 'no' 'para' 'pasos'\n",
      " 'peso' 'pesos' 'que' 'realmente' 'rentable' 'saber' 'se' 'si' 'sin'\n",
      " 'startup' 'suerte' 'tu' 'ultima' 'un' 'validar' 'vending']\n"
     ]
    }
   ],
   "source": [
    "# UNICOS\n",
    "unicos = np.unique(lista4)\n",
    "print unicos"
   ]
  },
  {
   "cell_type": "code",
   "execution_count": 10,
   "metadata": {
    "collapsed": false
   },
   "outputs": [
    {
     "name": "stdout",
     "output_type": "stream",
     "text": [
      "['atrae' 'buena' 'cero' 'claves' 'digital' 'dinero' 'dos' 'empezar'\n",
      " 'empieza' 'fase' 'gastar' 'idea' 'iniciar' 'llamada' 'machines' 'menos'\n",
      " 'mil' 'muera' 'mundo' 'negocio' 'negocios' 'pasos' 'peso' 'pesos'\n",
      " 'realmente' 'rentable' 'saber' 'startup' 'suerte' 'ultima' 'validar'\n",
      " 'vending']\n"
     ]
    }
   ],
   "source": [
    "# Fnción de eliminación de StopWords\n",
    "stopwords = ['para','tu','de','la','del','un','en', \\\n",
    "             'los','se','si','que','sin','como','asi', \\\n",
    "             'es','mas','no','con','el','desde','las']\n",
    "def elimina(cadena,diccionario):\n",
    "    for i in range(len(diccionario)):\n",
    "        cadena =  np.delete(cadena,np.where(cadena == diccionario[i]))\n",
    "        if i == len(diccionario)-1:\n",
    "            return cadena\n",
    "    \n",
    "words = elimina(unicos,stopwords)\n",
    "print words"
   ]
  },
  {
   "cell_type": "code",
   "execution_count": 11,
   "metadata": {
    "collapsed": false
   },
   "outputs": [],
   "source": [
    "from nltk import word_tokenize\n",
    "from nltk.stem import SnowballStemmer\n",
    "stemmer = SnowballStemmer('spanish')"
   ]
  },
  {
   "cell_type": "code",
   "execution_count": 12,
   "metadata": {
    "collapsed": true
   },
   "outputs": [],
   "source": [
    "# Stemming\n",
    "repetidas = ['empieza','pesos','negocios']\n",
    "words_stm = elimina(words,repetidas)\n",
    "### Sin implementar\n",
    "def derivacion(cadena,diccionario):\n",
    "    for i in range(len(diccionario)):\n",
    "        palabra = stemmer.stem(diccionario[i])\n",
    "        cadena =  np.delete(cadena,np.where(cadena == palabra))\n",
    "        if i == len(diccionario)-1:\n",
    "            return cadena"
   ]
  },
  {
   "cell_type": "code",
   "execution_count": 13,
   "metadata": {
    "collapsed": false
   },
   "outputs": [
    {
     "name": "stdout",
     "output_type": "stream",
     "text": [
      "['atrae' 'buena' 'cero' 'claves' 'digital' 'dinero' 'dos' 'empezar' 'fase'\n",
      " 'gastar' 'idea' 'iniciar' 'llamada' 'machines' 'menos' 'mil' 'muera'\n",
      " 'mundo' 'negocio' 'pasos' 'peso' 'realmente' 'rentable' 'saber' 'startup'\n",
      " 'suerte' 'ultima' 'validar' 'vending']\n"
     ]
    }
   ],
   "source": [
    "print words_stm"
   ]
  },
  {
   "cell_type": "code",
   "execution_count": 14,
   "metadata": {
    "collapsed": false
   },
   "outputs": [
    {
     "data": {
      "text/plain": [
       "['4 pasos para validar tu idea de negocio sin gastar un peso',\n",
       " ' la fase de la idea de negocio',\n",
       " ' como empezar tu negocio de vending machines sin dinero',\n",
       " ' como saber si tu negocio es realmente rentable',\n",
       " ' ultima llamada: empieza tu negocio digital',\n",
       " ' asi se atrae la buena suerte en los negocios',\n",
       " ' las 3 claves para que tu startup no muera',\n",
       " ' 6 pasos para iniciar un negocio desde cero',\n",
       " ' como iniciar un negocio con menos de dos mil pesos',\n",
       " ' 5 pasos para iniciar el negocio mas rentable del mundo ']"
      ]
     },
     "execution_count": 14,
     "metadata": {},
     "output_type": "execute_result"
    }
   ],
   "source": [
    "lista1.split(',')"
   ]
  },
  {
   "cell_type": "code",
   "execution_count": 15,
   "metadata": {
    "collapsed": false
   },
   "outputs": [],
   "source": [
    "# Función para contar las aparciciones en los artículos\n",
    "def contar(cadenaOrg,cadenaUnica):\n",
    "    cuentas = []\n",
    "    for i in range(len(cadenaUnica)):\n",
    "        cuenta = np.char.count(array(cadenaOrg.split(',')),cadenaUnica[i])\n",
    "        cuentas.append(cuenta)\n",
    "    return cuentas\n",
    " "
   ]
  },
  {
   "cell_type": "code",
   "execution_count": 16,
   "metadata": {
    "collapsed": false
   },
   "outputs": [],
   "source": [
    "lista5 = contar(lista1,words_stm)"
   ]
  },
  {
   "cell_type": "code",
   "execution_count": 17,
   "metadata": {
    "collapsed": false
   },
   "outputs": [],
   "source": [
    "# Métrica DF\n",
    "def df(lista):\n",
    "    suma_t = []\n",
    "    for i in range(len(lista)):\n",
    "        suma = sum(lista[i])\n",
    "        suma_t.append(suma)\n",
    "    return suma_t"
   ]
  },
  {
   "cell_type": "code",
   "execution_count": 18,
   "metadata": {
    "collapsed": false
   },
   "outputs": [],
   "source": [
    "DF = df(lista5)"
   ]
  },
  {
   "cell_type": "code",
   "execution_count": 19,
   "metadata": {
    "collapsed": false
   },
   "outputs": [],
   "source": [
    "import pandas as pd\n",
    "C=pd.DataFrame({'Términos':words_stm,'DF':DF,'d':lista5})"
   ]
  },
  {
   "cell_type": "code",
   "execution_count": 20,
   "metadata": {
    "collapsed": false
   },
   "outputs": [
    {
     "name": "stdout",
     "output_type": "stream",
     "text": [
      "    DF   Términos                               d\n",
      "0    1      atrae  [0, 0, 0, 0, 0, 1, 0, 0, 0, 0]\n",
      "1    1      buena  [0, 0, 0, 0, 0, 1, 0, 0, 0, 0]\n",
      "2    1       cero  [0, 0, 0, 0, 0, 0, 0, 1, 0, 0]\n",
      "3    1     claves  [0, 0, 0, 0, 0, 0, 1, 0, 0, 0]\n",
      "4    1    digital  [0, 0, 0, 0, 1, 0, 0, 0, 0, 0]\n",
      "5    1     dinero  [0, 0, 1, 0, 0, 0, 0, 0, 0, 0]\n",
      "6    1        dos  [0, 0, 0, 0, 0, 0, 0, 0, 1, 0]\n",
      "7    1    empezar  [0, 0, 1, 0, 0, 0, 0, 0, 0, 0]\n",
      "8    1       fase  [0, 1, 0, 0, 0, 0, 0, 0, 0, 0]\n",
      "9    1     gastar  [1, 0, 0, 0, 0, 0, 0, 0, 0, 0]\n",
      "10   2       idea  [1, 1, 0, 0, 0, 0, 0, 0, 0, 0]\n",
      "11   3    iniciar  [0, 0, 0, 0, 0, 0, 0, 1, 1, 1]\n",
      "12   1    llamada  [0, 0, 0, 0, 1, 0, 0, 0, 0, 0]\n",
      "13   1   machines  [0, 0, 1, 0, 0, 0, 0, 0, 0, 0]\n",
      "14   1      menos  [0, 0, 0, 0, 0, 0, 0, 0, 1, 0]\n",
      "15   1        mil  [0, 0, 0, 0, 0, 0, 0, 0, 1, 0]\n",
      "16   1      muera  [0, 0, 0, 0, 0, 0, 1, 0, 0, 0]\n",
      "17   1      mundo  [0, 0, 0, 0, 0, 0, 0, 0, 0, 1]\n",
      "18   9    negocio  [1, 1, 1, 1, 1, 1, 0, 1, 1, 1]\n",
      "19   3      pasos  [1, 0, 0, 0, 0, 0, 0, 1, 0, 1]\n",
      "20   2       peso  [1, 0, 0, 0, 0, 0, 0, 0, 1, 0]\n",
      "21   1  realmente  [0, 0, 0, 1, 0, 0, 0, 0, 0, 0]\n",
      "22   2   rentable  [0, 0, 0, 1, 0, 0, 0, 0, 0, 1]\n",
      "23   1      saber  [0, 0, 0, 1, 0, 0, 0, 0, 0, 0]\n",
      "24   1    startup  [0, 0, 0, 0, 0, 0, 1, 0, 0, 0]\n",
      "25   1     suerte  [0, 0, 0, 0, 0, 1, 0, 0, 0, 0]\n",
      "26   1     ultima  [0, 0, 0, 0, 1, 0, 0, 0, 0, 0]\n",
      "27   1    validar  [1, 0, 0, 0, 0, 0, 0, 0, 0, 0]\n",
      "28   1    vending  [0, 0, 1, 0, 0, 0, 0, 0, 0, 0]\n"
     ]
    }
   ],
   "source": [
    "print C"
   ]
  },
  {
   "cell_type": "code",
   "execution_count": 21,
   "metadata": {
    "collapsed": true
   },
   "outputs": [],
   "source": [
    "# Artículo de Prueba\n",
    "prueba = \"La startup que (literalmente) convierte tus ideas en dinero \""
   ]
  },
  {
   "cell_type": "code",
   "execution_count": 23,
   "metadata": {
    "collapsed": false
   },
   "outputs": [
    {
     "name": "stdout",
     "output_type": "stream",
     "text": [
      "la startup que literalmente convierte tus ideas en dinero\n"
     ]
    }
   ],
   "source": [
    "prueba1 = sinAcentos(prueba)\n",
    "prueba2 = sinDicc(prueba1,dicNum)\n",
    "print prueba2"
   ]
  },
  {
   "cell_type": "code",
   "execution_count": 24,
   "metadata": {
    "collapsed": false
   },
   "outputs": [
    {
     "name": "stdout",
     "output_type": "stream",
     "text": [
      "[array([0]), array([0]), array([0]), array([0]), array([0]), array([1]), array([0]), array([0]), array([0]), array([0]), array([1]), array([0]), array([0]), array([0]), array([0]), array([0]), array([0]), array([0]), array([0]), array([0]), array([0]), array([0]), array([0]), array([0]), array([1]), array([0]), array([0]), array([0]), array([0])]\n"
     ]
    }
   ],
   "source": [
    "lista6 = contar(prueba2,words_stm)\n",
    "print lista6"
   ]
  },
  {
   "cell_type": "code",
   "execution_count": 25,
   "metadata": {
    "collapsed": false
   },
   "outputs": [
    {
     "name": "stdout",
     "output_type": "stream",
     "text": [
      "    Art  DF   Términos                               d\n",
      "0   [0]   1      atrae  [0, 0, 0, 0, 0, 1, 0, 0, 0, 0]\n",
      "1   [0]   1      buena  [0, 0, 0, 0, 0, 1, 0, 0, 0, 0]\n",
      "2   [0]   1       cero  [0, 0, 0, 0, 0, 0, 0, 1, 0, 0]\n",
      "3   [0]   1     claves  [0, 0, 0, 0, 0, 0, 1, 0, 0, 0]\n",
      "4   [0]   1    digital  [0, 0, 0, 0, 1, 0, 0, 0, 0, 0]\n",
      "5   [1]   1     dinero  [0, 0, 1, 0, 0, 0, 0, 0, 0, 0]\n",
      "6   [0]   1        dos  [0, 0, 0, 0, 0, 0, 0, 0, 1, 0]\n",
      "7   [0]   1    empezar  [0, 0, 1, 0, 0, 0, 0, 0, 0, 0]\n",
      "8   [0]   1       fase  [0, 1, 0, 0, 0, 0, 0, 0, 0, 0]\n",
      "9   [0]   1     gastar  [1, 0, 0, 0, 0, 0, 0, 0, 0, 0]\n",
      "10  [1]   2       idea  [1, 1, 0, 0, 0, 0, 0, 0, 0, 0]\n",
      "11  [0]   3    iniciar  [0, 0, 0, 0, 0, 0, 0, 1, 1, 1]\n",
      "12  [0]   1    llamada  [0, 0, 0, 0, 1, 0, 0, 0, 0, 0]\n",
      "13  [0]   1   machines  [0, 0, 1, 0, 0, 0, 0, 0, 0, 0]\n",
      "14  [0]   1      menos  [0, 0, 0, 0, 0, 0, 0, 0, 1, 0]\n",
      "15  [0]   1        mil  [0, 0, 0, 0, 0, 0, 0, 0, 1, 0]\n",
      "16  [0]   1      muera  [0, 0, 0, 0, 0, 0, 1, 0, 0, 0]\n",
      "17  [0]   1      mundo  [0, 0, 0, 0, 0, 0, 0, 0, 0, 1]\n",
      "18  [0]   9    negocio  [1, 1, 1, 1, 1, 1, 0, 1, 1, 1]\n",
      "19  [0]   3      pasos  [1, 0, 0, 0, 0, 0, 0, 1, 0, 1]\n",
      "20  [0]   2       peso  [1, 0, 0, 0, 0, 0, 0, 0, 1, 0]\n",
      "21  [0]   1  realmente  [0, 0, 0, 1, 0, 0, 0, 0, 0, 0]\n",
      "22  [0]   2   rentable  [0, 0, 0, 1, 0, 0, 0, 0, 0, 1]\n",
      "23  [0]   1      saber  [0, 0, 0, 1, 0, 0, 0, 0, 0, 0]\n",
      "24  [1]   1    startup  [0, 0, 0, 0, 0, 0, 1, 0, 0, 0]\n",
      "25  [0]   1     suerte  [0, 0, 0, 0, 0, 1, 0, 0, 0, 0]\n",
      "26  [0]   1     ultima  [0, 0, 0, 0, 1, 0, 0, 0, 0, 0]\n",
      "27  [0]   1    validar  [1, 0, 0, 0, 0, 0, 0, 0, 0, 0]\n",
      "28  [0]   1    vending  [0, 0, 1, 0, 0, 0, 0, 0, 0, 0]\n"
     ]
    }
   ],
   "source": [
    "import pandas as pd\n",
    "C2=pd.DataFrame({'Términos':words_stm,'DF':DF,'d':lista5,'Art':lista6})\n",
    "print C2"
   ]
  },
  {
   "cell_type": "code",
   "execution_count": 26,
   "metadata": {
    "collapsed": true
   },
   "outputs": [],
   "source": [
    "# Función de IDF\n",
    "def tidf(df,lista,N):\n",
    "    tidf_t = []\n",
    "    for i in range(len(lista)):\n",
    "        tidf = df[i]*(np.log(N/lista[i])) \n",
    "        tidf_t.append(tidf)\n",
    "    return tidf_t"
   ]
  },
  {
   "cell_type": "code",
   "execution_count": 27,
   "metadata": {
    "collapsed": false
   },
   "outputs": [],
   "source": [
    "idf = tidf(DF,lista6,10)"
   ]
  },
  {
   "cell_type": "code",
   "execution_count": 28,
   "metadata": {
    "collapsed": false
   },
   "outputs": [
    {
     "name": "stdout",
     "output_type": "stream",
     "text": [
      "    Art  DF              IDF   Términos                               d\n",
      "0   [0]   1           [-inf]      atrae  [0, 0, 0, 0, 0, 1, 0, 0, 0, 0]\n",
      "1   [0]   1           [-inf]      buena  [0, 0, 0, 0, 0, 1, 0, 0, 0, 0]\n",
      "2   [0]   1           [-inf]       cero  [0, 0, 0, 0, 0, 0, 0, 1, 0, 0]\n",
      "3   [0]   1           [-inf]     claves  [0, 0, 0, 0, 0, 0, 1, 0, 0, 0]\n",
      "4   [0]   1           [-inf]    digital  [0, 0, 0, 0, 1, 0, 0, 0, 0, 0]\n",
      "5   [1]   1  [2.30258509299]     dinero  [0, 0, 1, 0, 0, 0, 0, 0, 0, 0]\n",
      "6   [0]   1           [-inf]        dos  [0, 0, 0, 0, 0, 0, 0, 0, 1, 0]\n",
      "7   [0]   1           [-inf]    empezar  [0, 0, 1, 0, 0, 0, 0, 0, 0, 0]\n",
      "8   [0]   1           [-inf]       fase  [0, 1, 0, 0, 0, 0, 0, 0, 0, 0]\n",
      "9   [0]   1           [-inf]     gastar  [1, 0, 0, 0, 0, 0, 0, 0, 0, 0]\n",
      "10  [1]   2  [4.60517018599]       idea  [1, 1, 0, 0, 0, 0, 0, 0, 0, 0]\n",
      "11  [0]   3           [-inf]    iniciar  [0, 0, 0, 0, 0, 0, 0, 1, 1, 1]\n",
      "12  [0]   1           [-inf]    llamada  [0, 0, 0, 0, 1, 0, 0, 0, 0, 0]\n",
      "13  [0]   1           [-inf]   machines  [0, 0, 1, 0, 0, 0, 0, 0, 0, 0]\n",
      "14  [0]   1           [-inf]      menos  [0, 0, 0, 0, 0, 0, 0, 0, 1, 0]\n",
      "15  [0]   1           [-inf]        mil  [0, 0, 0, 0, 0, 0, 0, 0, 1, 0]\n",
      "16  [0]   1           [-inf]      muera  [0, 0, 0, 0, 0, 0, 1, 0, 0, 0]\n",
      "17  [0]   1           [-inf]      mundo  [0, 0, 0, 0, 0, 0, 0, 0, 0, 1]\n",
      "18  [0]   9           [-inf]    negocio  [1, 1, 1, 1, 1, 1, 0, 1, 1, 1]\n",
      "19  [0]   3           [-inf]      pasos  [1, 0, 0, 0, 0, 0, 0, 1, 0, 1]\n",
      "20  [0]   2           [-inf]       peso  [1, 0, 0, 0, 0, 0, 0, 0, 1, 0]\n",
      "21  [0]   1           [-inf]  realmente  [0, 0, 0, 1, 0, 0, 0, 0, 0, 0]\n",
      "22  [0]   2           [-inf]   rentable  [0, 0, 0, 1, 0, 0, 0, 0, 0, 1]\n",
      "23  [0]   1           [-inf]      saber  [0, 0, 0, 1, 0, 0, 0, 0, 0, 0]\n",
      "24  [1]   1  [2.30258509299]    startup  [0, 0, 0, 0, 0, 0, 1, 0, 0, 0]\n",
      "25  [0]   1           [-inf]     suerte  [0, 0, 0, 0, 0, 1, 0, 0, 0, 0]\n",
      "26  [0]   1           [-inf]     ultima  [0, 0, 0, 0, 1, 0, 0, 0, 0, 0]\n",
      "27  [0]   1           [-inf]    validar  [1, 0, 0, 0, 0, 0, 0, 0, 0, 0]\n",
      "28  [0]   1           [-inf]    vending  [0, 0, 1, 0, 0, 0, 0, 0, 0, 0]\n"
     ]
    }
   ],
   "source": [
    "import pandas as pd\n",
    "C3=pd.DataFrame({'Términos':words_stm,'DF':DF,'d':lista5,'Art':lista6,'IDF':idf})\n",
    "print C3"
   ]
  },
  {
   "cell_type": "markdown",
   "metadata": {},
   "source": [
    "## Resultados\n",
    "\n",
    "Los documentos ordenados por relevancia con respecto a nuestro query: \n",
    "\n",
    "\"La startup que (literalmente) convierte tus ideas en dinero \"\n",
    "\n",
    "1.- 4 pasos para validar tu idea de negocio sin gastar un peso \n",
    "2.- La fase de la idea de negocio \n",
    "3.- Cómo empezar tu negocio de vending machines sin dinero \n",
    "4.- Las 3 claves para que tu startup no muera\n",
    "5.- Última llamada: empieza tu negocio digital \n",
    "6.- Así se atrae la buena suerte en los negocios \n",
    "7.- Cómo saber si tu negocio es realmente rentable \n",
    "8.- 6 pasos para iniciar un negocio desde cero \n",
    "9.- Cómo iniciar un negocio con menos de dos mil pesos \n",
    "10.- 5 pasos para iniciar el negocio más rentable del mundo \n",
    "\n",
    "### Conclusiones:\n",
    "\n",
    "En el desarrollo se tuvieron algunos problemas para implementar algunas funciones como el stemming ya que al ocuparlo en verbos conjugados como empezar y su conjugación empieza son diferentes debido a ello no se logro como tal implentar este método, por otra parte, al sacar las métricas no se pudo ver el enrequecimiento del método puesto que se tuvieron muy pocas palabras en común entre los artículos y por lo no se pudo ordenar con mayor precisión o ranking."
   ]
  }
 ],
 "metadata": {
  "anaconda-cloud": {},
  "kernelspec": {
   "display_name": "Python [Root]",
   "language": "python",
   "name": "Python [Root]"
  },
  "language_info": {
   "codemirror_mode": {
    "name": "ipython",
    "version": 2
   },
   "file_extension": ".py",
   "mimetype": "text/x-python",
   "name": "python",
   "nbconvert_exporter": "python",
   "pygments_lexer": "ipython2",
   "version": "2.7.12"
  }
 },
 "nbformat": 4,
 "nbformat_minor": 0
}
