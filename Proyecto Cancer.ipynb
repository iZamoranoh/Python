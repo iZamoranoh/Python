{
 "cells": [
  {
   "cell_type": "markdown",
   "metadata": {},
   "source": [
    "## Proyecto Final\n",
    "\n",
    "1. Histogramas y resumen de los datos.\n",
    "2. Cruces y gráficos. Comparaciones de marginales vs conjuntas para destacar importancias.\n",
    "3. Correlaciones y comentarios al respecto.\n",
    "4. Cuadros y gráficos de cruces entre variables discretas.\n",
    "5. Cuadros de medias y desviaciones std de las variables continuas vs valores de las variables discretas y discretizadas.\n",
    "6. Transformación de los datos. Reducción de cardinalidad de los atributos y los cuadros o métricas resultantes.\n",
    "7. Descripción de diagramas y comentarios sobre los modelos utilizados.\n",
    "8. Corridas preliminares e interpretaciones.\n",
    "9. Descripción sobre ajustes al modelo.\n",
    "10. Métricas ROC, densidades, lifts, correlaciones, varianzas, etc.\n",
    "11. Interpretación en términos del caso de negocio."
   ]
  },
  {
   "cell_type": "code",
   "execution_count": 120,
   "metadata": {
    "collapsed": true
   },
   "outputs": [],
   "source": [
    "# Importando librerías\n",
    "import pandas as pd\n",
    "import numpy as np\n",
    "import matplotlib as mp\n",
    "import matplotlib.pyplot as plt\n",
    "%matplotlib inline\n",
    "# Librerías\n",
    "from sklearn.ensemble import RandomForestClassifier\n",
    "from sklearn.ensemble import ExtraTreesClassifier\n",
    "from sklearn.metrics import classification_report\n",
    "from sklearn import cross_validation\n",
    "from sklearn import svm\n",
    "from sklearn.cross_validation import train_test_split\n",
    "import sklearn.metrics\n",
    "from sklearn.metrics import recall_score\n",
    "from sklearn.metrics import roc_auc_score"
   ]
  },
  {
   "cell_type": "code",
   "execution_count": 18,
   "metadata": {
    "collapsed": false
   },
   "outputs": [
    {
     "data": {
      "text/html": [
       "<div>\n",
       "<table border=\"1\" class=\"dataframe\">\n",
       "  <thead>\n",
       "    <tr style=\"text-align: right;\">\n",
       "      <th></th>\n",
       "      <th>G1</th>\n",
       "      <th>G2</th>\n",
       "      <th>G3</th>\n",
       "      <th>G4</th>\n",
       "      <th>G5</th>\n",
       "      <th>G6</th>\n",
       "      <th>G7</th>\n",
       "      <th>G8</th>\n",
       "      <th>G9</th>\n",
       "      <th>G10</th>\n",
       "      <th>...</th>\n",
       "      <th>F128</th>\n",
       "      <th>F129</th>\n",
       "      <th>F130</th>\n",
       "      <th>F131</th>\n",
       "      <th>F132</th>\n",
       "      <th>F133</th>\n",
       "      <th>F134</th>\n",
       "      <th>F135</th>\n",
       "      <th>F136</th>\n",
       "      <th>clase</th>\n",
       "    </tr>\n",
       "  </thead>\n",
       "  <tbody>\n",
       "    <tr>\n",
       "      <th>0</th>\n",
       "      <td>1.048918</td>\n",
       "      <td>1.048569</td>\n",
       "      <td>1.049383</td>\n",
       "      <td>1.045136</td>\n",
       "      <td>1.035635</td>\n",
       "      <td>1.038765</td>\n",
       "      <td>1.032765</td>\n",
       "      <td>1.035271</td>\n",
       "      <td>1.028696</td>\n",
       "      <td>1.028588</td>\n",
       "      <td>...</td>\n",
       "      <td>0.000000</td>\n",
       "      <td>0.000000</td>\n",
       "      <td>0.000000</td>\n",
       "      <td>0.0</td>\n",
       "      <td>0.645161</td>\n",
       "      <td>0.117302</td>\n",
       "      <td>0.234604</td>\n",
       "      <td>0.058651</td>\n",
       "      <td>0.000000</td>\n",
       "      <td>1</td>\n",
       "    </tr>\n",
       "    <tr>\n",
       "      <th>1</th>\n",
       "      <td>1.206512</td>\n",
       "      <td>1.197764</td>\n",
       "      <td>1.180049</td>\n",
       "      <td>1.155265</td>\n",
       "      <td>1.149890</td>\n",
       "      <td>1.140326</td>\n",
       "      <td>1.125761</td>\n",
       "      <td>1.120233</td>\n",
       "      <td>1.107607</td>\n",
       "      <td>1.105388</td>\n",
       "      <td>...</td>\n",
       "      <td>0.000000</td>\n",
       "      <td>2.287390</td>\n",
       "      <td>0.000000</td>\n",
       "      <td>0.0</td>\n",
       "      <td>0.175953</td>\n",
       "      <td>2.111437</td>\n",
       "      <td>0.117302</td>\n",
       "      <td>0.000000</td>\n",
       "      <td>0.000000</td>\n",
       "      <td>1</td>\n",
       "    </tr>\n",
       "    <tr>\n",
       "      <th>2</th>\n",
       "      <td>0.982336</td>\n",
       "      <td>0.974569</td>\n",
       "      <td>0.982862</td>\n",
       "      <td>0.979049</td>\n",
       "      <td>0.977011</td>\n",
       "      <td>0.974945</td>\n",
       "      <td>0.983158</td>\n",
       "      <td>0.977318</td>\n",
       "      <td>0.983387</td>\n",
       "      <td>0.986544</td>\n",
       "      <td>...</td>\n",
       "      <td>0.645161</td>\n",
       "      <td>0.058651</td>\n",
       "      <td>0.175953</td>\n",
       "      <td>0.0</td>\n",
       "      <td>0.000000</td>\n",
       "      <td>0.762463</td>\n",
       "      <td>0.175953</td>\n",
       "      <td>0.117302</td>\n",
       "      <td>0.175953</td>\n",
       "      <td>0</td>\n",
       "    </tr>\n",
       "    <tr>\n",
       "      <th>3</th>\n",
       "      <td>0.888782</td>\n",
       "      <td>0.885816</td>\n",
       "      <td>0.894207</td>\n",
       "      <td>0.897395</td>\n",
       "      <td>0.898868</td>\n",
       "      <td>0.900361</td>\n",
       "      <td>0.909153</td>\n",
       "      <td>0.920582</td>\n",
       "      <td>0.919141</td>\n",
       "      <td>0.923867</td>\n",
       "      <td>...</td>\n",
       "      <td>0.410557</td>\n",
       "      <td>0.997067</td>\n",
       "      <td>0.000000</td>\n",
       "      <td>0.0</td>\n",
       "      <td>0.058651</td>\n",
       "      <td>0.293255</td>\n",
       "      <td>0.058651</td>\n",
       "      <td>0.234604</td>\n",
       "      <td>0.117302</td>\n",
       "      <td>0</td>\n",
       "    </tr>\n",
       "    <tr>\n",
       "      <th>4</th>\n",
       "      <td>0.986500</td>\n",
       "      <td>0.998200</td>\n",
       "      <td>0.994945</td>\n",
       "      <td>0.990453</td>\n",
       "      <td>1.010778</td>\n",
       "      <td>1.002943</td>\n",
       "      <td>0.991649</td>\n",
       "      <td>0.996019</td>\n",
       "      <td>1.002549</td>\n",
       "      <td>1.032684</td>\n",
       "      <td>...</td>\n",
       "      <td>0.000000</td>\n",
       "      <td>0.117302</td>\n",
       "      <td>0.000000</td>\n",
       "      <td>0.0</td>\n",
       "      <td>0.117302</td>\n",
       "      <td>0.000000</td>\n",
       "      <td>0.351906</td>\n",
       "      <td>0.703812</td>\n",
       "      <td>0.469208</td>\n",
       "      <td>0</td>\n",
       "    </tr>\n",
       "  </tbody>\n",
       "</table>\n",
       "<p>5 rows × 273 columns</p>\n",
       "</div>"
      ],
      "text/plain": [
       "         G1        G2        G3        G4        G5        G6        G7  \\\n",
       "0  1.048918  1.048569  1.049383  1.045136  1.035635  1.038765  1.032765   \n",
       "1  1.206512  1.197764  1.180049  1.155265  1.149890  1.140326  1.125761   \n",
       "2  0.982336  0.974569  0.982862  0.979049  0.977011  0.974945  0.983158   \n",
       "3  0.888782  0.885816  0.894207  0.897395  0.898868  0.900361  0.909153   \n",
       "4  0.986500  0.998200  0.994945  0.990453  1.010778  1.002943  0.991649   \n",
       "\n",
       "         G8        G9       G10  ...        F128      F129      F130  F131  \\\n",
       "0  1.035271  1.028696  1.028588  ...    0.000000  0.000000  0.000000   0.0   \n",
       "1  1.120233  1.107607  1.105388  ...    0.000000  2.287390  0.000000   0.0   \n",
       "2  0.977318  0.983387  0.986544  ...    0.645161  0.058651  0.175953   0.0   \n",
       "3  0.920582  0.919141  0.923867  ...    0.410557  0.997067  0.000000   0.0   \n",
       "4  0.996019  1.002549  1.032684  ...    0.000000  0.117302  0.000000   0.0   \n",
       "\n",
       "       F132      F133      F134      F135      F136  clase  \n",
       "0  0.645161  0.117302  0.234604  0.058651  0.000000      1  \n",
       "1  0.175953  2.111437  0.117302  0.000000  0.000000      1  \n",
       "2  0.000000  0.762463  0.175953  0.117302  0.175953      0  \n",
       "3  0.058651  0.293255  0.058651  0.234604  0.117302      0  \n",
       "4  0.117302  0.000000  0.351906  0.703812  0.469208      0  \n",
       "\n",
       "[5 rows x 273 columns]"
      ]
     },
     "execution_count": 18,
     "metadata": {},
     "output_type": "execute_result"
    }
   ],
   "source": [
    "# Archivo a cargar\n",
    "datos=pd.read_csv(r'C:\\Users\\Itzel Zamorano\\Documents\\Diplomado\\Python\\BaseCos.csv')\n",
    "datos.head(5)"
   ]
  },
  {
   "cell_type": "code",
   "execution_count": 19,
   "metadata": {
    "collapsed": false
   },
   "outputs": [
    {
     "name": "stdout",
     "output_type": "stream",
     "text": [
      "<class 'pandas.core.frame.DataFrame'>\n",
      "RangeIndex: 182 entries, 0 to 181\n",
      "Columns: 273 entries, G1 to clase\n",
      "dtypes: float64(272), int64(1)\n",
      "memory usage: 388.2 KB\n"
     ]
    }
   ],
   "source": [
    "datos.info()"
   ]
  },
  {
   "cell_type": "code",
   "execution_count": 96,
   "metadata": {
    "collapsed": false
   },
   "outputs": [],
   "source": [
    "Clase0 = datos[datos.clase == 0]"
   ]
  },
  {
   "cell_type": "code",
   "execution_count": 97,
   "metadata": {
    "collapsed": false
   },
   "outputs": [],
   "source": [
    "CClase0 = Clase0.take(np.random.permutation(len(Clase0))[:26])"
   ]
  },
  {
   "cell_type": "code",
   "execution_count": 98,
   "metadata": {
    "collapsed": true
   },
   "outputs": [],
   "source": [
    "Clase1 = datos[datos.clase == 1]"
   ]
  },
  {
   "cell_type": "code",
   "execution_count": 99,
   "metadata": {
    "collapsed": false
   },
   "outputs": [],
   "source": [
    "Z = pd.concat([CClase0, Clase1],axis=0)"
   ]
  },
  {
   "cell_type": "code",
   "execution_count": 100,
   "metadata": {
    "collapsed": false
   },
   "outputs": [],
   "source": [
    "y = Z.clase\n"
   ]
  },
  {
   "cell_type": "code",
   "execution_count": 101,
   "metadata": {
    "collapsed": false
   },
   "outputs": [
    {
     "data": {
      "text/html": [
       "<div>\n",
       "<table border=\"1\" class=\"dataframe\">\n",
       "  <thead>\n",
       "    <tr style=\"text-align: right;\">\n",
       "      <th></th>\n",
       "      <th>G1</th>\n",
       "      <th>G2</th>\n",
       "      <th>G3</th>\n",
       "      <th>G4</th>\n",
       "      <th>G5</th>\n",
       "      <th>G6</th>\n",
       "      <th>G7</th>\n",
       "      <th>G8</th>\n",
       "      <th>G9</th>\n",
       "      <th>G10</th>\n",
       "      <th>...</th>\n",
       "      <th>F127</th>\n",
       "      <th>F128</th>\n",
       "      <th>F129</th>\n",
       "      <th>F130</th>\n",
       "      <th>F131</th>\n",
       "      <th>F132</th>\n",
       "      <th>F133</th>\n",
       "      <th>F134</th>\n",
       "      <th>F135</th>\n",
       "      <th>F136</th>\n",
       "    </tr>\n",
       "  </thead>\n",
       "  <tbody>\n",
       "    <tr>\n",
       "      <th>64</th>\n",
       "      <td>0.854361</td>\n",
       "      <td>0.850511</td>\n",
       "      <td>0.847294</td>\n",
       "      <td>0.865153</td>\n",
       "      <td>0.873886</td>\n",
       "      <td>0.884692</td>\n",
       "      <td>0.891651</td>\n",
       "      <td>0.893708</td>\n",
       "      <td>0.903699</td>\n",
       "      <td>0.907606</td>\n",
       "      <td>...</td>\n",
       "      <td>0.821114</td>\n",
       "      <td>0.586510</td>\n",
       "      <td>1.055718</td>\n",
       "      <td>0.000000</td>\n",
       "      <td>0.058651</td>\n",
       "      <td>0.469208</td>\n",
       "      <td>0.351906</td>\n",
       "      <td>0.058651</td>\n",
       "      <td>0.058651</td>\n",
       "      <td>0.058651</td>\n",
       "    </tr>\n",
       "    <tr>\n",
       "      <th>99</th>\n",
       "      <td>0.906679</td>\n",
       "      <td>0.897393</td>\n",
       "      <td>0.906126</td>\n",
       "      <td>0.909434</td>\n",
       "      <td>0.910856</td>\n",
       "      <td>0.920335</td>\n",
       "      <td>0.928811</td>\n",
       "      <td>0.934405</td>\n",
       "      <td>0.942011</td>\n",
       "      <td>0.941003</td>\n",
       "      <td>...</td>\n",
       "      <td>10.439883</td>\n",
       "      <td>5.982405</td>\n",
       "      <td>0.000000</td>\n",
       "      <td>11.026393</td>\n",
       "      <td>2.287390</td>\n",
       "      <td>16.950147</td>\n",
       "      <td>0.000000</td>\n",
       "      <td>0.000000</td>\n",
       "      <td>0.000000</td>\n",
       "      <td>0.000000</td>\n",
       "    </tr>\n",
       "    <tr>\n",
       "      <th>152</th>\n",
       "      <td>0.984863</td>\n",
       "      <td>0.980651</td>\n",
       "      <td>0.973706</td>\n",
       "      <td>0.967517</td>\n",
       "      <td>0.966152</td>\n",
       "      <td>0.971651</td>\n",
       "      <td>0.976918</td>\n",
       "      <td>0.972851</td>\n",
       "      <td>0.976353</td>\n",
       "      <td>0.985620</td>\n",
       "      <td>...</td>\n",
       "      <td>2.346041</td>\n",
       "      <td>5.454545</td>\n",
       "      <td>0.821114</td>\n",
       "      <td>0.000000</td>\n",
       "      <td>2.228739</td>\n",
       "      <td>1.876833</td>\n",
       "      <td>0.000000</td>\n",
       "      <td>0.000000</td>\n",
       "      <td>0.000000</td>\n",
       "      <td>0.000000</td>\n",
       "    </tr>\n",
       "    <tr>\n",
       "      <th>15</th>\n",
       "      <td>1.001860</td>\n",
       "      <td>1.006950</td>\n",
       "      <td>1.006509</td>\n",
       "      <td>1.004619</td>\n",
       "      <td>1.008895</td>\n",
       "      <td>1.004277</td>\n",
       "      <td>1.008180</td>\n",
       "      <td>1.009121</td>\n",
       "      <td>1.001241</td>\n",
       "      <td>1.005963</td>\n",
       "      <td>...</td>\n",
       "      <td>5.337243</td>\n",
       "      <td>2.228739</td>\n",
       "      <td>5.337243</td>\n",
       "      <td>4.222874</td>\n",
       "      <td>0.000000</td>\n",
       "      <td>0.000000</td>\n",
       "      <td>1.524927</td>\n",
       "      <td>0.117302</td>\n",
       "      <td>0.000000</td>\n",
       "      <td>0.000000</td>\n",
       "    </tr>\n",
       "    <tr>\n",
       "      <th>81</th>\n",
       "      <td>0.926325</td>\n",
       "      <td>0.921470</td>\n",
       "      <td>0.928966</td>\n",
       "      <td>0.926811</td>\n",
       "      <td>0.931478</td>\n",
       "      <td>0.931271</td>\n",
       "      <td>0.940358</td>\n",
       "      <td>0.943361</td>\n",
       "      <td>0.946763</td>\n",
       "      <td>0.951134</td>\n",
       "      <td>...</td>\n",
       "      <td>3.988270</td>\n",
       "      <td>2.463343</td>\n",
       "      <td>0.000000</td>\n",
       "      <td>4.164223</td>\n",
       "      <td>1.583578</td>\n",
       "      <td>1.700880</td>\n",
       "      <td>0.000000</td>\n",
       "      <td>0.000000</td>\n",
       "      <td>0.000000</td>\n",
       "      <td>0.000000</td>\n",
       "    </tr>\n",
       "  </tbody>\n",
       "</table>\n",
       "<p>5 rows × 272 columns</p>\n",
       "</div>"
      ],
      "text/plain": [
       "           G1        G2        G3        G4        G5        G6        G7  \\\n",
       "64   0.854361  0.850511  0.847294  0.865153  0.873886  0.884692  0.891651   \n",
       "99   0.906679  0.897393  0.906126  0.909434  0.910856  0.920335  0.928811   \n",
       "152  0.984863  0.980651  0.973706  0.967517  0.966152  0.971651  0.976918   \n",
       "15   1.001860  1.006950  1.006509  1.004619  1.008895  1.004277  1.008180   \n",
       "81   0.926325  0.921470  0.928966  0.926811  0.931478  0.931271  0.940358   \n",
       "\n",
       "           G8        G9       G10    ...          F127      F128      F129  \\\n",
       "64   0.893708  0.903699  0.907606    ...      0.821114  0.586510  1.055718   \n",
       "99   0.934405  0.942011  0.941003    ...     10.439883  5.982405  0.000000   \n",
       "152  0.972851  0.976353  0.985620    ...      2.346041  5.454545  0.821114   \n",
       "15   1.009121  1.001241  1.005963    ...      5.337243  2.228739  5.337243   \n",
       "81   0.943361  0.946763  0.951134    ...      3.988270  2.463343  0.000000   \n",
       "\n",
       "          F130      F131       F132      F133      F134      F135      F136  \n",
       "64    0.000000  0.058651   0.469208  0.351906  0.058651  0.058651  0.058651  \n",
       "99   11.026393  2.287390  16.950147  0.000000  0.000000  0.000000  0.000000  \n",
       "152   0.000000  2.228739   1.876833  0.000000  0.000000  0.000000  0.000000  \n",
       "15    4.222874  0.000000   0.000000  1.524927  0.117302  0.000000  0.000000  \n",
       "81    4.164223  1.583578   1.700880  0.000000  0.000000  0.000000  0.000000  \n",
       "\n",
       "[5 rows x 272 columns]"
      ]
     },
     "execution_count": 101,
     "metadata": {},
     "output_type": "execute_result"
    }
   ],
   "source": [
    "X = Z\n",
    "X.drop(['clase'],inplace=True,axis=1)\n",
    "X.head()"
   ]
  },
  {
   "cell_type": "code",
   "execution_count": 102,
   "metadata": {
    "collapsed": true
   },
   "outputs": [],
   "source": [
    "X_train, X_test, y_train, y_test = train_test_split(X, y, test_size=.3, random_state=52)"
   ]
  },
  {
   "cell_type": "code",
   "execution_count": 104,
   "metadata": {
    "collapsed": false
   },
   "outputs": [
    {
     "data": {
      "text/plain": [
       "(36, 272)"
      ]
     },
     "execution_count": 104,
     "metadata": {},
     "output_type": "execute_result"
    }
   ],
   "source": [
    "X_train.shape"
   ]
  },
  {
   "cell_type": "code",
   "execution_count": 105,
   "metadata": {
    "collapsed": false
   },
   "outputs": [],
   "source": [
    "X_train2, X_test2, y_train2, y_test2 = train_test_split(X_train, y_train, test_size=.3, random_state=36)"
   ]
  },
  {
   "cell_type": "code",
   "execution_count": 106,
   "metadata": {
    "collapsed": false
   },
   "outputs": [
    {
     "data": {
      "text/plain": [
       "(25, 272)"
      ]
     },
     "execution_count": 106,
     "metadata": {},
     "output_type": "execute_result"
    }
   ],
   "source": [
    "X_train2.shape"
   ]
  },
  {
   "cell_type": "code",
   "execution_count": 107,
   "metadata": {
    "collapsed": false
   },
   "outputs": [
    {
     "name": "stdout",
     "output_type": "stream",
     "text": [
      "[ 0.44444444  0.75        0.75      ]\n"
     ]
    }
   ],
   "source": [
    "forest = RandomForestClassifier(n_estimators=300,max_features='log2')\n",
    "score=cross_validation.cross_val_score(forest, X_train2, y_train2)\n",
    "forest.fit(X_train2, y_train2)\n",
    "importances = forest.feature_importances_\n",
    "print(score)"
   ]
  },
  {
   "cell_type": "code",
   "execution_count": 108,
   "metadata": {
    "collapsed": true
   },
   "outputs": [],
   "source": [
    "#importances = rf.feature_importances_\n",
    "std = np.std([tree.feature_importances_ for tree in forest.estimators_],\n",
    "             axis=0)\n",
    "indices = np.argsort(importances)[::-1]\n",
    "nom=X.columns.values[indices]\n",
    "feature=importances[indices]"
   ]
  },
  {
   "cell_type": "code",
   "execution_count": 113,
   "metadata": {
    "collapsed": false
   },
   "outputs": [
    {
     "data": {
      "text/html": [
       "<div>\n",
       "<table border=\"1\" class=\"dataframe\">\n",
       "  <thead>\n",
       "    <tr style=\"text-align: right;\">\n",
       "      <th></th>\n",
       "      <th>Caracteristicas</th>\n",
       "      <th>Ponderacion</th>\n",
       "    </tr>\n",
       "  </thead>\n",
       "  <tbody>\n",
       "    <tr>\n",
       "      <th>0</th>\n",
       "      <td>F19</td>\n",
       "      <td>0.013558</td>\n",
       "    </tr>\n",
       "    <tr>\n",
       "      <th>1</th>\n",
       "      <td>G9</td>\n",
       "      <td>0.013523</td>\n",
       "    </tr>\n",
       "    <tr>\n",
       "      <th>2</th>\n",
       "      <td>G110</td>\n",
       "      <td>0.013391</td>\n",
       "    </tr>\n",
       "    <tr>\n",
       "      <th>3</th>\n",
       "      <td>G102</td>\n",
       "      <td>0.012750</td>\n",
       "    </tr>\n",
       "    <tr>\n",
       "      <th>4</th>\n",
       "      <td>F106</td>\n",
       "      <td>0.012331</td>\n",
       "    </tr>\n",
       "    <tr>\n",
       "      <th>5</th>\n",
       "      <td>G13</td>\n",
       "      <td>0.011910</td>\n",
       "    </tr>\n",
       "    <tr>\n",
       "      <th>6</th>\n",
       "      <td>F35</td>\n",
       "      <td>0.011731</td>\n",
       "    </tr>\n",
       "    <tr>\n",
       "      <th>7</th>\n",
       "      <td>F89</td>\n",
       "      <td>0.011673</td>\n",
       "    </tr>\n",
       "    <tr>\n",
       "      <th>8</th>\n",
       "      <td>F95</td>\n",
       "      <td>0.011318</td>\n",
       "    </tr>\n",
       "    <tr>\n",
       "      <th>9</th>\n",
       "      <td>G106</td>\n",
       "      <td>0.011090</td>\n",
       "    </tr>\n",
       "    <tr>\n",
       "      <th>10</th>\n",
       "      <td>F32</td>\n",
       "      <td>0.011015</td>\n",
       "    </tr>\n",
       "    <tr>\n",
       "      <th>11</th>\n",
       "      <td>G115</td>\n",
       "      <td>0.010986</td>\n",
       "    </tr>\n",
       "    <tr>\n",
       "      <th>12</th>\n",
       "      <td>F126</td>\n",
       "      <td>0.010735</td>\n",
       "    </tr>\n",
       "    <tr>\n",
       "      <th>13</th>\n",
       "      <td>F28</td>\n",
       "      <td>0.010545</td>\n",
       "    </tr>\n",
       "  </tbody>\n",
       "</table>\n",
       "</div>"
      ],
      "text/plain": [
       "   Caracteristicas  Ponderacion\n",
       "0              F19     0.013558\n",
       "1               G9     0.013523\n",
       "2             G110     0.013391\n",
       "3             G102     0.012750\n",
       "4             F106     0.012331\n",
       "5              G13     0.011910\n",
       "6              F35     0.011731\n",
       "7              F89     0.011673\n",
       "8              F95     0.011318\n",
       "9             G106     0.011090\n",
       "10             F32     0.011015\n",
       "11            G115     0.010986\n",
       "12            F126     0.010735\n",
       "13             F28     0.010545"
      ]
     },
     "execution_count": 113,
     "metadata": {},
     "output_type": "execute_result"
    }
   ],
   "source": [
    "rasgos=pd.DataFrame({'Caracteristicas':nom,'Ponderacion':feature})\n",
    "umbral=rasgos.Ponderacion.mean()*2.7\n",
    "rasgos=rasgos[rasgos.Ponderacion>umbral]\n",
    "rasgos"
   ]
  },
  {
   "cell_type": "code",
   "execution_count": 111,
   "metadata": {
    "collapsed": false
   },
   "outputs": [
    {
     "data": {
      "text/html": [
       "<div>\n",
       "<table border=\"1\" class=\"dataframe\">\n",
       "  <thead>\n",
       "    <tr style=\"text-align: right;\">\n",
       "      <th></th>\n",
       "      <th>Ponderacion</th>\n",
       "    </tr>\n",
       "  </thead>\n",
       "  <tbody>\n",
       "    <tr>\n",
       "      <th>count</th>\n",
       "      <td>23.000000</td>\n",
       "    </tr>\n",
       "    <tr>\n",
       "      <th>mean</th>\n",
       "      <td>0.010967</td>\n",
       "    </tr>\n",
       "    <tr>\n",
       "      <th>std</th>\n",
       "      <td>0.001440</td>\n",
       "    </tr>\n",
       "    <tr>\n",
       "      <th>min</th>\n",
       "      <td>0.009285</td>\n",
       "    </tr>\n",
       "    <tr>\n",
       "      <th>25%</th>\n",
       "      <td>0.009701</td>\n",
       "    </tr>\n",
       "    <tr>\n",
       "      <th>50%</th>\n",
       "      <td>0.010986</td>\n",
       "    </tr>\n",
       "    <tr>\n",
       "      <th>75%</th>\n",
       "      <td>0.011821</td>\n",
       "    </tr>\n",
       "    <tr>\n",
       "      <th>max</th>\n",
       "      <td>0.013558</td>\n",
       "    </tr>\n",
       "  </tbody>\n",
       "</table>\n",
       "</div>"
      ],
      "text/plain": [
       "       Ponderacion\n",
       "count    23.000000\n",
       "mean      0.010967\n",
       "std       0.001440\n",
       "min       0.009285\n",
       "25%       0.009701\n",
       "50%       0.010986\n",
       "75%       0.011821\n",
       "max       0.013558"
      ]
     },
     "execution_count": 111,
     "metadata": {},
     "output_type": "execute_result"
    }
   ],
   "source": [
    "rasgos.describe()"
   ]
  },
  {
   "cell_type": "code",
   "execution_count": 114,
   "metadata": {
    "collapsed": false
   },
   "outputs": [
    {
     "data": {
      "text/plain": [
       "<matplotlib.axes._subplots.AxesSubplot at 0xa688e80>"
      ]
     },
     "execution_count": 114,
     "metadata": {},
     "output_type": "execute_result"
    },
    {
     "data": {
      "image/png": "[encoded data removed]",
      "text/plain": [
       "<matplotlib.figure.Figure at 0xc379240>"
      ]
     },
     "metadata": {},
     "output_type": "display_data"
    }
   ],
   "source": [
    "rasgos.plot(kind='bar')"
   ]
  },
  {
   "cell_type": "code",
   "execution_count": 128,
   "metadata": {
    "collapsed": false
   },
   "outputs": [
    {
     "data": {
      "text/html": [
       "<div>\n",
       "<table border=\"1\" class=\"dataframe\">\n",
       "  <thead>\n",
       "    <tr style=\"text-align: right;\">\n",
       "      <th></th>\n",
       "      <th>F19</th>\n",
       "      <th>G9</th>\n",
       "      <th>G110</th>\n",
       "      <th>G102</th>\n",
       "      <th>F106</th>\n",
       "      <th>G13</th>\n",
       "      <th>F35</th>\n",
       "      <th>F89</th>\n",
       "      <th>F95</th>\n",
       "      <th>G106</th>\n",
       "      <th>F32</th>\n",
       "      <th>G115</th>\n",
       "      <th>F126</th>\n",
       "      <th>F28</th>\n",
       "    </tr>\n",
       "  </thead>\n",
       "  <tbody>\n",
       "    <tr>\n",
       "      <th>116</th>\n",
       "      <td>0.351906</td>\n",
       "      <td>0.991201</td>\n",
       "      <td>0.009916</td>\n",
       "      <td>0.980907</td>\n",
       "      <td>0.879765</td>\n",
       "      <td>0.993668</td>\n",
       "      <td>0.234604</td>\n",
       "      <td>0.175953</td>\n",
       "      <td>0.469208</td>\n",
       "      <td>0.985321</td>\n",
       "      <td>1.114370</td>\n",
       "      <td>1.017345</td>\n",
       "      <td>14.017595</td>\n",
       "      <td>0.645161</td>\n",
       "    </tr>\n",
       "    <tr>\n",
       "      <th>81</th>\n",
       "      <td>0.997067</td>\n",
       "      <td>0.946763</td>\n",
       "      <td>0.907266</td>\n",
       "      <td>0.948835</td>\n",
       "      <td>3.284457</td>\n",
       "      <td>0.948250</td>\n",
       "      <td>0.410557</td>\n",
       "      <td>0.762463</td>\n",
       "      <td>2.170088</td>\n",
       "      <td>0.888958</td>\n",
       "      <td>2.346041</td>\n",
       "      <td>0.961737</td>\n",
       "      <td>4.281525</td>\n",
       "      <td>2.287390</td>\n",
       "    </tr>\n",
       "    <tr>\n",
       "      <th>26</th>\n",
       "      <td>0.997067</td>\n",
       "      <td>1.001252</td>\n",
       "      <td>1.048000</td>\n",
       "      <td>0.988198</td>\n",
       "      <td>1.348974</td>\n",
       "      <td>1.002089</td>\n",
       "      <td>0.117302</td>\n",
       "      <td>0.410557</td>\n",
       "      <td>0.469208</td>\n",
       "      <td>0.987601</td>\n",
       "      <td>0.410557</td>\n",
       "      <td>0.979849</td>\n",
       "      <td>0.410557</td>\n",
       "      <td>0.586510</td>\n",
       "    </tr>\n",
       "    <tr>\n",
       "      <th>84</th>\n",
       "      <td>0.586510</td>\n",
       "      <td>0.916332</td>\n",
       "      <td>0.223963</td>\n",
       "      <td>0.992996</td>\n",
       "      <td>2.932551</td>\n",
       "      <td>0.939245</td>\n",
       "      <td>0.821114</td>\n",
       "      <td>2.287390</td>\n",
       "      <td>2.756598</td>\n",
       "      <td>0.187549</td>\n",
       "      <td>1.114370</td>\n",
       "      <td>0.014208</td>\n",
       "      <td>5.161290</td>\n",
       "      <td>0.175953</td>\n",
       "    </tr>\n",
       "    <tr>\n",
       "      <th>75</th>\n",
       "      <td>1.876833</td>\n",
       "      <td>1.023647</td>\n",
       "      <td>1.119701</td>\n",
       "      <td>0.987211</td>\n",
       "      <td>0.469208</td>\n",
       "      <td>1.027154</td>\n",
       "      <td>0.410557</td>\n",
       "      <td>0.762463</td>\n",
       "      <td>0.058651</td>\n",
       "      <td>1.195465</td>\n",
       "      <td>1.055718</td>\n",
       "      <td>1.963338</td>\n",
       "      <td>3.695015</td>\n",
       "      <td>0.351906</td>\n",
       "    </tr>\n",
       "  </tbody>\n",
       "</table>\n",
       "</div>"
      ],
      "text/plain": [
       "          F19        G9      G110      G102      F106       G13       F35  \\\n",
       "116  0.351906  0.991201  0.009916  0.980907  0.879765  0.993668  0.234604   \n",
       "81   0.997067  0.946763  0.907266  0.948835  3.284457  0.948250  0.410557   \n",
       "26   0.997067  1.001252  1.048000  0.988198  1.348974  1.002089  0.117302   \n",
       "84   0.586510  0.916332  0.223963  0.992996  2.932551  0.939245  0.821114   \n",
       "75   1.876833  1.023647  1.119701  0.987211  0.469208  1.027154  0.410557   \n",
       "\n",
       "          F89       F95      G106       F32      G115       F126       F28  \n",
       "116  0.175953  0.469208  0.985321  1.114370  1.017345  14.017595  0.645161  \n",
       "81   0.762463  2.170088  0.888958  2.346041  0.961737   4.281525  2.287390  \n",
       "26   0.410557  0.469208  0.987601  0.410557  0.979849   0.410557  0.586510  \n",
       "84   2.287390  2.756598  0.187549  1.114370  0.014208   5.161290  0.175953  \n",
       "75   0.762463  0.058651  1.195465  1.055718  1.963338   3.695015  0.351906  "
      ]
     },
     "execution_count": 128,
     "metadata": {},
     "output_type": "execute_result"
    }
   ],
   "source": [
    "L = X_test2[rasgos.Caracteristicas]\n",
    "L.head(5)"
   ]
  },
  {
   "cell_type": "code",
   "execution_count": 129,
   "metadata": {
    "collapsed": false
   },
   "outputs": [
    {
     "data": {
      "text/html": [
       "<div>\n",
       "<table border=\"1\" class=\"dataframe\">\n",
       "  <thead>\n",
       "    <tr style=\"text-align: right;\">\n",
       "      <th></th>\n",
       "      <th>F19</th>\n",
       "      <th>G9</th>\n",
       "      <th>G110</th>\n",
       "      <th>G102</th>\n",
       "      <th>F106</th>\n",
       "      <th>G13</th>\n",
       "      <th>F35</th>\n",
       "      <th>F89</th>\n",
       "      <th>F95</th>\n",
       "      <th>G106</th>\n",
       "      <th>F32</th>\n",
       "      <th>G115</th>\n",
       "      <th>F126</th>\n",
       "      <th>F28</th>\n",
       "    </tr>\n",
       "  </thead>\n",
       "  <tbody>\n",
       "    <tr>\n",
       "      <th>27</th>\n",
       "      <td>0.000000</td>\n",
       "      <td>0.963526</td>\n",
       "      <td>1.010951</td>\n",
       "      <td>0.993528</td>\n",
       "      <td>0.175953</td>\n",
       "      <td>0.965430</td>\n",
       "      <td>1.407625</td>\n",
       "      <td>1.173021</td>\n",
       "      <td>1.994135</td>\n",
       "      <td>0.987261</td>\n",
       "      <td>0.997067</td>\n",
       "      <td>0.982208</td>\n",
       "      <td>3.929619</td>\n",
       "      <td>0.586510</td>\n",
       "    </tr>\n",
       "    <tr>\n",
       "      <th>128</th>\n",
       "      <td>0.821114</td>\n",
       "      <td>1.022799</td>\n",
       "      <td>1.152920</td>\n",
       "      <td>1.013302</td>\n",
       "      <td>0.000000</td>\n",
       "      <td>1.035050</td>\n",
       "      <td>0.527859</td>\n",
       "      <td>0.879765</td>\n",
       "      <td>1.055718</td>\n",
       "      <td>1.103014</td>\n",
       "      <td>2.697947</td>\n",
       "      <td>1.168311</td>\n",
       "      <td>4.868035</td>\n",
       "      <td>2.228739</td>\n",
       "    </tr>\n",
       "    <tr>\n",
       "      <th>168</th>\n",
       "      <td>0.527859</td>\n",
       "      <td>1.068196</td>\n",
       "      <td>1.027293</td>\n",
       "      <td>1.001945</td>\n",
       "      <td>0.175953</td>\n",
       "      <td>1.048933</td>\n",
       "      <td>0.058651</td>\n",
       "      <td>0.645161</td>\n",
       "      <td>0.293255</td>\n",
       "      <td>0.992514</td>\n",
       "      <td>0.234604</td>\n",
       "      <td>0.924436</td>\n",
       "      <td>0.000000</td>\n",
       "      <td>0.058651</td>\n",
       "    </tr>\n",
       "    <tr>\n",
       "      <th>18</th>\n",
       "      <td>0.821114</td>\n",
       "      <td>1.011488</td>\n",
       "      <td>1.083629</td>\n",
       "      <td>1.001863</td>\n",
       "      <td>1.055718</td>\n",
       "      <td>1.007839</td>\n",
       "      <td>1.290323</td>\n",
       "      <td>0.938416</td>\n",
       "      <td>1.114370</td>\n",
       "      <td>1.016890</td>\n",
       "      <td>0.234604</td>\n",
       "      <td>1.018172</td>\n",
       "      <td>2.170088</td>\n",
       "      <td>0.234604</td>\n",
       "    </tr>\n",
       "    <tr>\n",
       "      <th>33</th>\n",
       "      <td>0.351906</td>\n",
       "      <td>0.959644</td>\n",
       "      <td>0.937397</td>\n",
       "      <td>0.984636</td>\n",
       "      <td>0.000000</td>\n",
       "      <td>0.981809</td>\n",
       "      <td>0.175953</td>\n",
       "      <td>0.410557</td>\n",
       "      <td>0.117302</td>\n",
       "      <td>0.989628</td>\n",
       "      <td>0.058651</td>\n",
       "      <td>0.985316</td>\n",
       "      <td>1.231672</td>\n",
       "      <td>0.410557</td>\n",
       "    </tr>\n",
       "  </tbody>\n",
       "</table>\n",
       "</div>"
      ],
      "text/plain": [
       "          F19        G9      G110      G102      F106       G13       F35  \\\n",
       "27   0.000000  0.963526  1.010951  0.993528  0.175953  0.965430  1.407625   \n",
       "128  0.821114  1.022799  1.152920  1.013302  0.000000  1.035050  0.527859   \n",
       "168  0.527859  1.068196  1.027293  1.001945  0.175953  1.048933  0.058651   \n",
       "18   0.821114  1.011488  1.083629  1.001863  1.055718  1.007839  1.290323   \n",
       "33   0.351906  0.959644  0.937397  0.984636  0.000000  0.981809  0.175953   \n",
       "\n",
       "          F89       F95      G106       F32      G115      F126       F28  \n",
       "27   1.173021  1.994135  0.987261  0.997067  0.982208  3.929619  0.586510  \n",
       "128  0.879765  1.055718  1.103014  2.697947  1.168311  4.868035  2.228739  \n",
       "168  0.645161  0.293255  0.992514  0.234604  0.924436  0.000000  0.058651  \n",
       "18   0.938416  1.114370  1.016890  0.234604  1.018172  2.170088  0.234604  \n",
       "33   0.410557  0.117302  0.989628  0.058651  0.985316  1.231672  0.410557  "
      ]
     },
     "execution_count": 129,
     "metadata": {},
     "output_type": "execute_result"
    }
   ],
   "source": [
    "M = X_train2[rasgos.Caracteristicas]\n",
    "M.head(5)"
   ]
  },
  {
   "cell_type": "code",
   "execution_count": 131,
   "metadata": {
    "collapsed": false
   },
   "outputs": [],
   "source": [
    "scores=cross_validation.cross_val_score(forest, M, y_train2)\n",
    "forest.fit(M, y_train2)\n",
    "y_predict = forest.predict(L)"
   ]
  },
  {
   "cell_type": "code",
   "execution_count": 132,
   "metadata": {
    "collapsed": false
   },
   "outputs": [
    {
     "name": "stdout",
     "output_type": "stream",
     "text": [
      "             precision    recall  f1-score   support\n",
      "\n",
      "    class 0       0.67      0.80      0.73         5\n",
      "    class 1       0.80      0.67      0.73         6\n",
      "\n",
      "avg / total       0.74      0.73      0.73        11\n",
      "\n"
     ]
    }
   ],
   "source": [
    "target_names = ['class 0', 'class 1']\n",
    "print(classification_report(y_test2, y_predict, target_names=target_names))"
   ]
  },
  {
   "cell_type": "code",
   "execution_count": 133,
   "metadata": {
    "collapsed": false
   },
   "outputs": [
    {
     "data": {
      "text/plain": [
       "0.73333333333333328"
      ]
     },
     "execution_count": 133,
     "metadata": {},
     "output_type": "execute_result"
    }
   ],
   "source": [
    "roc_auc_score(y_test2, y_predict)"
   ]
  },
  {
   "cell_type": "code",
   "execution_count": 134,
   "metadata": {
    "collapsed": true
   },
   "outputs": [],
   "source": [
    "y_predict2 = forest.predict(X_test[rasgos.Caracteristicas])"
   ]
  },
  {
   "cell_type": "code",
   "execution_count": 135,
   "metadata": {
    "collapsed": false
   },
   "outputs": [
    {
     "name": "stdout",
     "output_type": "stream",
     "text": [
      "             precision    recall  f1-score   support\n",
      "\n",
      "    class 0       0.56      0.62      0.59         8\n",
      "    class 1       0.57      0.50      0.53         8\n",
      "\n",
      "avg / total       0.56      0.56      0.56        16\n",
      "\n"
     ]
    }
   ],
   "source": [
    "target_names = ['class 0', 'class 1']\n",
    "print(classification_report(y_test, y_predict2, target_names=target_names))"
   ]
  },
  {
   "cell_type": "code",
   "execution_count": 143,
   "metadata": {
    "collapsed": false
   },
   "outputs": [
    {
     "data": {
      "text/plain": [
       "0.5625"
      ]
     },
     "execution_count": 143,
     "metadata": {},
     "output_type": "execute_result"
    }
   ],
   "source": [
    "roc_auc_score(y_test, y_predict2)"
   ]
  },
  {
   "cell_type": "code",
   "execution_count": 145,
   "metadata": {
    "collapsed": false
   },
   "outputs": [],
   "source": [
    "from sklearn.svm import SVC\n",
    "clf = SVC(probability=True)\n",
    "clf.fit(M, y_train2)\n",
    "y_pre=clf.predict(L)"
   ]
  },
  {
   "cell_type": "code",
   "execution_count": 146,
   "metadata": {
    "collapsed": false
   },
   "outputs": [
    {
     "name": "stdout",
     "output_type": "stream",
     "text": [
      "             precision    recall  f1-score   support\n",
      "\n",
      "    class 0       0.57      0.80      0.67         5\n",
      "    class 1       0.75      0.50      0.60         6\n",
      "\n",
      "avg / total       0.67      0.64      0.63        11\n",
      "\n"
     ]
    }
   ],
   "source": [
    "target_names = ['class 0', 'class 1']\n",
    "print(classification_report(y_test2, y_pre, target_names=target_names))"
   ]
  },
  {
   "cell_type": "code",
   "execution_count": 148,
   "metadata": {
    "collapsed": false
   },
   "outputs": [
    {
     "data": {
      "text/plain": [
       "0.65000000000000013"
      ]
     },
     "execution_count": 148,
     "metadata": {},
     "output_type": "execute_result"
    }
   ],
   "source": [
    "roc_auc_score(y_test2, y_pre)"
   ]
  },
  {
   "cell_type": "code",
   "execution_count": 149,
   "metadata": {
    "collapsed": true
   },
   "outputs": [],
   "source": [
    "y_pre2=clf.predict(X_test[rasgos.Caracteristicas])"
   ]
  },
  {
   "cell_type": "code",
   "execution_count": 150,
   "metadata": {
    "collapsed": false
   },
   "outputs": [
    {
     "name": "stdout",
     "output_type": "stream",
     "text": [
      "             precision    recall  f1-score   support\n",
      "\n",
      "    class 0       0.50      0.62      0.56         8\n",
      "    class 1       0.50      0.38      0.43         8\n",
      "\n",
      "avg / total       0.50      0.50      0.49        16\n",
      "\n"
     ]
    }
   ],
   "source": [
    "target_names = ['class 0', 'class 1']\n",
    "print(classification_report(y_test, y_pre2, target_names=target_names))"
   ]
  },
  {
   "cell_type": "code",
   "execution_count": 151,
   "metadata": {
    "collapsed": false
   },
   "outputs": [
    {
     "data": {
      "text/plain": [
       "0.5"
      ]
     },
     "execution_count": 151,
     "metadata": {},
     "output_type": "execute_result"
    }
   ],
   "source": [
    "roc_auc_score(y_test, y_pre2)"
   ]
  },
  {
   "cell_type": "code",
   "execution_count": 152,
   "metadata": {
    "collapsed": true
   },
   "outputs": [],
   "source": [
    "from sklearn.naive_bayes import GaussianNB\n",
    "clf2 = GaussianNB()\n",
    "clf2.fit(M, y_train2)\n",
    "y_pre_NB=clf2.predict(L)"
   ]
  },
  {
   "cell_type": "code",
   "execution_count": 153,
   "metadata": {
    "collapsed": false
   },
   "outputs": [
    {
     "name": "stdout",
     "output_type": "stream",
     "text": [
      "             precision    recall  f1-score   support\n",
      "\n",
      "    class 0       0.75      0.60      0.67         5\n",
      "    class 1       0.71      0.83      0.77         6\n",
      "\n",
      "avg / total       0.73      0.73      0.72        11\n",
      "\n"
     ]
    }
   ],
   "source": [
    "print(classification_report(y_test2, y_pre_NB, target_names=target_names))"
   ]
  },
  {
   "cell_type": "code",
   "execution_count": 154,
   "metadata": {
    "collapsed": false
   },
   "outputs": [
    {
     "data": {
      "text/plain": [
       "0.72727272727272729"
      ]
     },
     "execution_count": 154,
     "metadata": {},
     "output_type": "execute_result"
    }
   ],
   "source": [
    "sklearn.metrics.accuracy_score(y_test2,y_pre_NB)"
   ]
  },
  {
   "cell_type": "code",
   "execution_count": 155,
   "metadata": {
    "collapsed": true
   },
   "outputs": [],
   "source": [
    "y_pre_NB2 =clf2.predict(X_test[rasgos.Caracteristicas])"
   ]
  },
  {
   "cell_type": "code",
   "execution_count": 159,
   "metadata": {
    "collapsed": false
   },
   "outputs": [
    {
     "name": "stdout",
     "output_type": "stream",
     "text": [
      "             precision    recall  f1-score   support\n",
      "\n",
      "    class 0       0.60      0.38      0.46         8\n",
      "    class 1       0.55      0.75      0.63         8\n",
      "\n",
      "avg / total       0.57      0.56      0.55        16\n",
      "\n"
     ]
    }
   ],
   "source": [
    "print(classification_report(y_test, y_pre_NB2,target_names=target_names))"
   ]
  },
  {
   "cell_type": "code",
   "execution_count": 162,
   "metadata": {
    "collapsed": false
   },
   "outputs": [
    {
     "data": {
      "text/plain": [
       "0.5625"
      ]
     },
     "execution_count": 162,
     "metadata": {},
     "output_type": "execute_result"
    }
   ],
   "source": [
    "sklearn.metrics.accuracy_score(y_test,y_pre_NB2)"
   ]
  },
  {
   "cell_type": "code",
   "execution_count": null,
   "metadata": {
    "collapsed": true
   },
   "outputs": [],
   "source": []
  }
 ],
 "metadata": {
  "anaconda-cloud": {},
  "kernelspec": {
   "display_name": "Python [Root]",
   "language": "python",
   "name": "Python [Root]"
  },
  "language_info": {
   "codemirror_mode": {
    "name": "ipython",
    "version": 2
   },
   "file_extension": ".py",
   "mimetype": "text/x-python",
   "name": "python",
   "nbconvert_exporter": "python",
   "pygments_lexer": "ipython2",
   "version": "2.7.12"
  }
 },
 "nbformat": 4,
 "nbformat_minor": 0
}
