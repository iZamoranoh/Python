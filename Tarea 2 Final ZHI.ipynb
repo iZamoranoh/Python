{
 "cells": [
  {
   "cell_type": "code",
   "execution_count": 2,
   "metadata": {
    "collapsed": true,
    "jupyter": {
     "outputs_hidden": true
    }
   },
   "outputs": [],
   "source": [
    "# Importando librerías\n",
    "import pandas as pd\n",
    "import numpy as np\n",
    "import matplotlib as mp\n",
    "import matplotlib.pyplot as plt\n",
    "%matplotlib inline"
   ]
  },
  {
   "cell_type": "code",
   "execution_count": 3,
   "metadata": {
    "collapsed": true,
    "jupyter": {
     "outputs_hidden": true
    }
   },
   "outputs": [],
   "source": [
    "# Archivo a cargar\n",
    "datos=pd.read_csv(r'C:\\Users\\Itzel Zamorano\\Documents\\Diplomado\\Python\\first_5k.csv',parse_dates=[7])"
   ]
  },
  {
   "cell_type": "code",
   "execution_count": 4,
   "metadata": {
    "collapsed": false,
    "jupyter": {
     "outputs_hidden": false
    },
    "scrolled": true
   },
   "outputs": [
    {
     "name": "stdout",
     "output_type": "stream",
     "text": [
      "<class 'pandas.core.frame.DataFrame'>\n",
      "RangeIndex: 4999999 entries, 0 to 4999998\n",
      "Data columns (total 15 columns):\n",
      "producto           object\n",
      "presentacion       object\n",
      "marca              object\n",
      "categoria          object\n",
      "catalogo           object\n",
      "precio             float64\n",
      "fechaRegistro      object\n",
      "cadenaComercial    object\n",
      "giro               object\n",
      "nombreComercial    object\n",
      "direccion          object\n",
      "estado             object\n",
      "municipio          object\n",
      "latitud            float64\n",
      "longitud           float64\n",
      "dtypes: float64(3), object(12)\n",
      "memory usage: 572.2+ MB\n"
     ]
    }
   ],
   "source": [
    "# Se encontraron que tenemos 15 columnas de las 13 son string y sólo 3 son númericas.\n",
    "datos.info()"
   ]
  },
  {
   "cell_type": "code",
   "execution_count": 5,
   "metadata": {
    "collapsed": false,
    "jupyter": {
     "outputs_hidden": false
    }
   },
   "outputs": [
    {
     "name": "stderr",
     "output_type": "stream",
     "text": [
      "C:\\Anaconda2\\lib\\site-packages\\numpy\\lib\\function_base.py:3834: RuntimeWarning: Invalid value encountered in percentile\n",
      "  RuntimeWarning)\n"
     ]
    },
    {
     "data": {
      "text/html": [
       "<div>\n",
       "<table border=\"1\" class=\"dataframe\">\n",
       "  <thead>\n",
       "    <tr style=\"text-align: right;\">\n",
       "      <th></th>\n",
       "      <th>precio</th>\n",
       "      <th>latitud</th>\n",
       "      <th>longitud</th>\n",
       "    </tr>\n",
       "  </thead>\n",
       "  <tbody>\n",
       "    <tr>\n",
       "      <th>count</th>\n",
       "      <td>4.999999e+06</td>\n",
       "      <td>4.772308e+06</td>\n",
       "      <td>4.772308e+06</td>\n",
       "    </tr>\n",
       "    <tr>\n",
       "      <th>mean</th>\n",
       "      <td>4.719949e+02</td>\n",
       "      <td>2.067859e+01</td>\n",
       "      <td>-9.972081e+01</td>\n",
       "    </tr>\n",
       "    <tr>\n",
       "      <th>std</th>\n",
       "      <td>1.876400e+03</td>\n",
       "      <td>2.287266e+00</td>\n",
       "      <td>4.206325e+00</td>\n",
       "    </tr>\n",
       "    <tr>\n",
       "      <th>min</th>\n",
       "      <td>4.500000e-01</td>\n",
       "      <td>1.703943e+01</td>\n",
       "      <td>-1.110115e+02</td>\n",
       "    </tr>\n",
       "    <tr>\n",
       "      <th>25%</th>\n",
       "      <td>1.490000e+01</td>\n",
       "      <td>NaN</td>\n",
       "      <td>NaN</td>\n",
       "    </tr>\n",
       "    <tr>\n",
       "      <th>50%</th>\n",
       "      <td>3.160000e+01</td>\n",
       "      <td>NaN</td>\n",
       "      <td>NaN</td>\n",
       "    </tr>\n",
       "    <tr>\n",
       "      <th>75%</th>\n",
       "      <td>1.000000e+02</td>\n",
       "      <td>NaN</td>\n",
       "      <td>NaN</td>\n",
       "    </tr>\n",
       "    <tr>\n",
       "      <th>max</th>\n",
       "      <td>9.999900e+04</td>\n",
       "      <td>2.914444e+01</td>\n",
       "      <td>-8.682410e+01</td>\n",
       "    </tr>\n",
       "  </tbody>\n",
       "</table>\n",
       "</div>"
      ],
      "text/plain": [
       "             precio       latitud      longitud\n",
       "count  4.999999e+06  4.772308e+06  4.772308e+06\n",
       "mean   4.719949e+02  2.067859e+01 -9.972081e+01\n",
       "std    1.876400e+03  2.287266e+00  4.206325e+00\n",
       "min    4.500000e-01  1.703943e+01 -1.110115e+02\n",
       "25%    1.490000e+01           NaN           NaN\n",
       "50%    3.160000e+01           NaN           NaN\n",
       "75%    1.000000e+02           NaN           NaN\n",
       "max    9.999900e+04  2.914444e+01 -8.682410e+01"
      ]
     },
     "execution_count": 5,
     "metadata": {},
     "output_type": "execute_result"
    }
   ],
   "source": [
    "# Se hizo una descripción estadística de las variables numéricas\n",
    "datos.describe()"
   ]
  },
  {
   "cell_type": "code",
   "execution_count": 6,
   "metadata": {
    "collapsed": false,
    "jupyter": {
     "outputs_hidden": false
    }
   },
   "outputs": [
    {
     "data": {
      "text/plain": [
       "producto                0\n",
       "presentacion            0\n",
       "marca                   0\n",
       "categoria               0\n",
       "catalogo              119\n",
       "precio                  0\n",
       "fechaRegistro           0\n",
       "cadenaComercial         0\n",
       "giro                    0\n",
       "nombreComercial         0\n",
       "direccion               0\n",
       "estado                134\n",
       "municipio             134\n",
       "latitud            227691\n",
       "longitud           227691\n",
       "dtype: int64"
      ]
     },
     "execution_count": 6,
     "metadata": {},
     "output_type": "execute_result"
    }
   ],
   "source": [
    "# Se encontraron que tenemos variables que no cuentan información \n",
    "datos.isnull().sum()"
   ]
  },
  {
   "cell_type": "code",
   "execution_count": 7,
   "metadata": {
    "collapsed": false,
    "jupyter": {
     "outputs_hidden": false
    }
   },
   "outputs": [
    {
     "data": {
      "text/plain": [
       "(4999999, 15)"
      ]
     },
     "execution_count": 7,
     "metadata": {},
     "output_type": "execute_result"
    }
   ],
   "source": [
    "# Las dimensiones de la base es la siguiente como anteriormente vimos son de 15 Columnas\n",
    "datos.shape"
   ]
  },
  {
   "cell_type": "code",
   "execution_count": 8,
   "metadata": {
    "collapsed": false,
    "jupyter": {
     "outputs_hidden": false
    }
   },
   "outputs": [],
   "source": [
    "# Se hizo la transformación de la fecha de string a num\n",
    "datos['fecha']=pd.to_datetime(datos.fechaRegistro)"
   ]
  },
  {
   "cell_type": "code",
   "execution_count": 9,
   "metadata": {},
   "outputs": [],
   "source": [
    "# Se obtine los meses en una nueva columna\n",
    "datos['mes']=[element.month for element in datos['fecha']]"
   ]
  },
  {
   "cell_type": "code",
   "execution_count": 10,
   "metadata": {
    "collapsed": false,
    "jupyter": {
     "outputs_hidden": false
    }
   },
   "outputs": [
    {
     "data": {
      "text/html": [
       "<div>\n",
       "<table border=\"1\" class=\"dataframe\">\n",
       "  <thead>\n",
       "    <tr style=\"text-align: right;\">\n",
       "      <th></th>\n",
       "      <th>categoria</th>\n",
       "      <th>producto</th>\n",
       "      <th>fecha</th>\n",
       "      <th>mes</th>\n",
       "    </tr>\n",
       "  </thead>\n",
       "  <tbody>\n",
       "    <tr>\n",
       "      <th>0</th>\n",
       "      <td>MATERIAL ESCOLAR</td>\n",
       "      <td>CUADERNO FORMA ITALIANA</td>\n",
       "      <td>2011-05-18</td>\n",
       "      <td>5</td>\n",
       "    </tr>\n",
       "    <tr>\n",
       "      <th>1</th>\n",
       "      <td>MATERIAL ESCOLAR</td>\n",
       "      <td>CRAYONES</td>\n",
       "      <td>2011-05-18</td>\n",
       "      <td>5</td>\n",
       "    </tr>\n",
       "    <tr>\n",
       "      <th>2</th>\n",
       "      <td>MATERIAL ESCOLAR</td>\n",
       "      <td>CRAYONES</td>\n",
       "      <td>2011-05-18</td>\n",
       "      <td>5</td>\n",
       "    </tr>\n",
       "    <tr>\n",
       "      <th>3</th>\n",
       "      <td>MATERIAL ESCOLAR</td>\n",
       "      <td>COLORES DE MADERA</td>\n",
       "      <td>2011-05-18</td>\n",
       "      <td>5</td>\n",
       "    </tr>\n",
       "    <tr>\n",
       "      <th>4</th>\n",
       "      <td>MATERIAL ESCOLAR</td>\n",
       "      <td>COLOR LARGO</td>\n",
       "      <td>2011-05-18</td>\n",
       "      <td>5</td>\n",
       "    </tr>\n",
       "  </tbody>\n",
       "</table>\n",
       "</div>"
      ],
      "text/plain": [
       "          categoria                 producto      fecha  mes\n",
       "0  MATERIAL ESCOLAR  CUADERNO FORMA ITALIANA 2011-05-18    5\n",
       "1  MATERIAL ESCOLAR                 CRAYONES 2011-05-18    5\n",
       "2  MATERIAL ESCOLAR                 CRAYONES 2011-05-18    5\n",
       "3  MATERIAL ESCOLAR        COLORES DE MADERA 2011-05-18    5\n",
       "4  MATERIAL ESCOLAR              COLOR LARGO 2011-05-18    5"
      ]
     },
     "execution_count": 10,
     "metadata": {},
     "output_type": "execute_result"
    }
   ],
   "source": [
    "# Se hace una acotación por categoría por fecha\n",
    "datos[['categoria','producto','fecha','mes']].head()"
   ]
  },
  {
   "cell_type": "code",
   "execution_count": 11,
   "metadata": {
    "collapsed": true,
    "jupyter": {
     "outputs_hidden": true
    }
   },
   "outputs": [],
   "source": [
    "# Se obtine los días en otra columna\n",
    "datos['dia']=[element.day for element in datos['fecha']]"
   ]
  },
  {
   "cell_type": "code",
   "execution_count": 12,
   "metadata": {
    "collapsed": false,
    "jupyter": {
     "outputs_hidden": false
    }
   },
   "outputs": [
    {
     "data": {
      "text/plain": [
       "array([ 5,  1,  2,  3,  6,  8,  9, 10, 11,  4,  7, 12], dtype=int64)"
      ]
     },
     "execution_count": 12,
     "metadata": {},
     "output_type": "execute_result"
    }
   ],
   "source": [
    "# Se sacan los meses\n",
    "datos.mes.unique()"
   ]
  },
  {
   "cell_type": "code",
   "execution_count": 13,
   "metadata": {
    "collapsed": false,
    "jupyter": {
     "outputs_hidden": false
    }
   },
   "outputs": [
    {
     "data": {
      "text/plain": [
       "array([18, 10,  1, 11, 12, 13, 14, 15, 16, 17, 19, 20,  2, 21, 22, 23, 24,\n",
       "       25, 26, 27], dtype=int64)"
      ]
     },
     "execution_count": 13,
     "metadata": {},
     "output_type": "execute_result"
    }
   ],
   "source": [
    "# Se sacan los días y se puede ver que no se encuentran todos los días hay un corte de 3-9\n",
    "datos.dia.unique()"
   ]
  },
  {
   "cell_type": "code",
   "execution_count": 85,
   "metadata": {
    "collapsed": false,
    "jupyter": {
     "outputs_hidden": false
    }
   },
   "outputs": [],
   "source": [
    "# Fechas no todos los meses cuentan con todos los días \n",
    "C2=pd.DataFrame({'mes':datos['mes'],'dia':datos['dia']})"
   ]
  },
  {
   "cell_type": "code",
   "execution_count": 86,
   "metadata": {
    "collapsed": false,
    "jupyter": {
     "outputs_hidden": false
    }
   },
   "outputs": [
    {
     "data": {
      "text/plain": [
       "<matplotlib.axes._subplots.AxesSubplot at 0x1b068ef0>"
      ]
     },
     "execution_count": 86,
     "metadata": {},
     "output_type": "execute_result"
    },
    {
     "data": {
      "image/png": "[encoded data removed]",
      "text/plain": [
       "<matplotlib.figure.Figure at 0x2cb20240>"
      ]
     },
     "metadata": {},
     "output_type": "display_data"
    }
   ],
   "source": [
    "# Frecuencia por mes\n",
    "datos['mes'].dropna().astype(int).hist(bins=50)"
   ]
  },
  {
   "cell_type": "code",
   "execution_count": 87,
   "metadata": {
    "collapsed": false,
    "jupyter": {
     "outputs_hidden": false
    }
   },
   "outputs": [
    {
     "data": {
      "text/plain": [
       "<matplotlib.axes._subplots.AxesSubplot at 0x25176320>"
      ]
     },
     "execution_count": 87,
     "metadata": {},
     "output_type": "execute_result"
    },
    {
     "data": {
      "image/png": "[encoded data removed]",
      "text/plain": [
       "<matplotlib.figure.Figure at 0x14252a90>"
      ]
     },
     "metadata": {},
     "output_type": "display_data"
    }
   ],
   "source": [
    "# Frecuencia por día\n",
    "datos['dia'].dropna().astype(int).hist(bins=50)"
   ]
  },
  {
   "cell_type": "code",
   "execution_count": 88,
   "metadata": {
    "collapsed": false,
    "jupyter": {
     "outputs_hidden": false
    }
   },
   "outputs": [
    {
     "data": {
      "text/html": [
       "<div>\n",
       "<table border=\"1\" class=\"dataframe\">\n",
       "  <thead>\n",
       "    <tr style=\"text-align: right;\">\n",
       "      <th></th>\n",
       "      <th>categoria</th>\n",
       "      <th>dia</th>\n",
       "      <th>mes</th>\n",
       "    </tr>\n",
       "  </thead>\n",
       "  <tbody>\n",
       "    <tr>\n",
       "      <th>0</th>\n",
       "      <td>MATERIAL ESCOLAR</td>\n",
       "      <td>18</td>\n",
       "      <td>5</td>\n",
       "    </tr>\n",
       "    <tr>\n",
       "      <th>9</th>\n",
       "      <td>PAN</td>\n",
       "      <td>10</td>\n",
       "      <td>1</td>\n",
       "    </tr>\n",
       "    <tr>\n",
       "      <th>10</th>\n",
       "      <td>GALLETAS PASTAS Y HARINAS DE TRIGO</td>\n",
       "      <td>10</td>\n",
       "      <td>1</td>\n",
       "    </tr>\n",
       "    <tr>\n",
       "      <th>15</th>\n",
       "      <td>ARTS. PARA EL CUIDADO PERSONAL</td>\n",
       "      <td>10</td>\n",
       "      <td>1</td>\n",
       "    </tr>\n",
       "    <tr>\n",
       "      <th>16</th>\n",
       "      <td>APARATOS ELECTRICOS</td>\n",
       "      <td>10</td>\n",
       "      <td>1</td>\n",
       "    </tr>\n",
       "    <tr>\n",
       "      <th>23</th>\n",
       "      <td>ARTS. DE PAPEL P/HIGIENE PERSONAL</td>\n",
       "      <td>10</td>\n",
       "      <td>1</td>\n",
       "    </tr>\n",
       "    <tr>\n",
       "      <th>29</th>\n",
       "      <td>MEDICAMENTOS</td>\n",
       "      <td>10</td>\n",
       "      <td>1</td>\n",
       "    </tr>\n",
       "    <tr>\n",
       "      <th>34</th>\n",
       "      <td>PRODUCTOS DE TEMPORADA (NAVIDEÐOS)</td>\n",
       "      <td>10</td>\n",
       "      <td>1</td>\n",
       "    </tr>\n",
       "    <tr>\n",
       "      <th>41</th>\n",
       "      <td>APARATOS ELECTRONICOS</td>\n",
       "      <td>10</td>\n",
       "      <td>1</td>\n",
       "    </tr>\n",
       "    <tr>\n",
       "      <th>42</th>\n",
       "      <td>ACCESORIOS DOMESTICOS</td>\n",
       "      <td>10</td>\n",
       "      <td>1</td>\n",
       "    </tr>\n",
       "    <tr>\n",
       "      <th>43</th>\n",
       "      <td>DETERGENTES Y PRODUCTOS SIMILARES</td>\n",
       "      <td>10</td>\n",
       "      <td>1</td>\n",
       "    </tr>\n",
       "    <tr>\n",
       "      <th>47</th>\n",
       "      <td>HORTALIZAS FRESCAS</td>\n",
       "      <td>10</td>\n",
       "      <td>1</td>\n",
       "    </tr>\n",
       "    <tr>\n",
       "      <th>48</th>\n",
       "      <td>FRUTAS FRESCAS</td>\n",
       "      <td>10</td>\n",
       "      <td>1</td>\n",
       "    </tr>\n",
       "    <tr>\n",
       "      <th>53</th>\n",
       "      <td>LEGUMBRES SECAS</td>\n",
       "      <td>10</td>\n",
       "      <td>1</td>\n",
       "    </tr>\n",
       "    <tr>\n",
       "      <th>59</th>\n",
       "      <td>FRUTAS Y LEGUMBRES PROCESADAS</td>\n",
       "      <td>10</td>\n",
       "      <td>1</td>\n",
       "    </tr>\n",
       "    <tr>\n",
       "      <th>71</th>\n",
       "      <td>CAFE</td>\n",
       "      <td>10</td>\n",
       "      <td>1</td>\n",
       "    </tr>\n",
       "    <tr>\n",
       "      <th>72</th>\n",
       "      <td>AZUCAR</td>\n",
       "      <td>10</td>\n",
       "      <td>1</td>\n",
       "    </tr>\n",
       "    <tr>\n",
       "      <th>77</th>\n",
       "      <td>CONDIMENTOS</td>\n",
       "      <td>10</td>\n",
       "      <td>1</td>\n",
       "    </tr>\n",
       "    <tr>\n",
       "      <th>78</th>\n",
       "      <td>REFRESCOS ENVASADOS</td>\n",
       "      <td>10</td>\n",
       "      <td>1</td>\n",
       "    </tr>\n",
       "    <tr>\n",
       "      <th>83</th>\n",
       "      <td>CHOCOLATES Y GOLOSINAS</td>\n",
       "      <td>10</td>\n",
       "      <td>1</td>\n",
       "    </tr>\n",
       "    <tr>\n",
       "      <th>89</th>\n",
       "      <td>ARROZ Y CEREALES PREPARADOS</td>\n",
       "      <td>10</td>\n",
       "      <td>1</td>\n",
       "    </tr>\n",
       "    <tr>\n",
       "      <th>93</th>\n",
       "      <td>MUEBLES DE COCINA</td>\n",
       "      <td>10</td>\n",
       "      <td>1</td>\n",
       "    </tr>\n",
       "    <tr>\n",
       "      <th>95</th>\n",
       "      <td>CARNE Y VISCERAS DE CERDO</td>\n",
       "      <td>10</td>\n",
       "      <td>1</td>\n",
       "    </tr>\n",
       "    <tr>\n",
       "      <th>96</th>\n",
       "      <td>CARNE DE AVE</td>\n",
       "      <td>10</td>\n",
       "      <td>1</td>\n",
       "    </tr>\n",
       "    <tr>\n",
       "      <th>101</th>\n",
       "      <td>CARNES FRIAS SECAS Y EMBUTIDOS</td>\n",
       "      <td>10</td>\n",
       "      <td>1</td>\n",
       "    </tr>\n",
       "    <tr>\n",
       "      <th>113</th>\n",
       "      <td>PESCADOS Y MARISCOS EN CONSERVA</td>\n",
       "      <td>10</td>\n",
       "      <td>1</td>\n",
       "    </tr>\n",
       "    <tr>\n",
       "      <th>115</th>\n",
       "      <td>PESCADOS Y MARISCOS</td>\n",
       "      <td>10</td>\n",
       "      <td>1</td>\n",
       "    </tr>\n",
       "    <tr>\n",
       "      <th>119</th>\n",
       "      <td>DERIVADOS DE LECHE</td>\n",
       "      <td>10</td>\n",
       "      <td>1</td>\n",
       "    </tr>\n",
       "    <tr>\n",
       "      <th>121</th>\n",
       "      <td>LECHE PROCESADA</td>\n",
       "      <td>10</td>\n",
       "      <td>1</td>\n",
       "    </tr>\n",
       "    <tr>\n",
       "      <th>132</th>\n",
       "      <td>ACEITES Y GRASAS VEG. COMESTIBLES</td>\n",
       "      <td>10</td>\n",
       "      <td>1</td>\n",
       "    </tr>\n",
       "    <tr>\n",
       "      <th>...</th>\n",
       "      <td>...</td>\n",
       "      <td>...</td>\n",
       "      <td>...</td>\n",
       "    </tr>\n",
       "    <tr>\n",
       "      <th>4976790</th>\n",
       "      <td>ARTS. PARA EL CUIDADO PERSONAL</td>\n",
       "      <td>27</td>\n",
       "      <td>5</td>\n",
       "    </tr>\n",
       "    <tr>\n",
       "      <th>4976800</th>\n",
       "      <td>ARTS. DE PAPEL P/HIGIENE PERSONAL</td>\n",
       "      <td>27</td>\n",
       "      <td>5</td>\n",
       "    </tr>\n",
       "    <tr>\n",
       "      <th>4976802</th>\n",
       "      <td>CONDIMENTOS</td>\n",
       "      <td>27</td>\n",
       "      <td>5</td>\n",
       "    </tr>\n",
       "    <tr>\n",
       "      <th>4976803</th>\n",
       "      <td>REFRESCOS ENVASADOS</td>\n",
       "      <td>27</td>\n",
       "      <td>5</td>\n",
       "    </tr>\n",
       "    <tr>\n",
       "      <th>4976807</th>\n",
       "      <td>CHOCOLATES Y GOLOSINAS</td>\n",
       "      <td>27</td>\n",
       "      <td>5</td>\n",
       "    </tr>\n",
       "    <tr>\n",
       "      <th>4976808</th>\n",
       "      <td>FRUTAS Y LEGUMBRES PROCESADAS</td>\n",
       "      <td>27</td>\n",
       "      <td>5</td>\n",
       "    </tr>\n",
       "    <tr>\n",
       "      <th>4976809</th>\n",
       "      <td>HORTALIZAS FRESCAS</td>\n",
       "      <td>27</td>\n",
       "      <td>5</td>\n",
       "    </tr>\n",
       "    <tr>\n",
       "      <th>4976814</th>\n",
       "      <td>AZUCAR</td>\n",
       "      <td>27</td>\n",
       "      <td>5</td>\n",
       "    </tr>\n",
       "    <tr>\n",
       "      <th>4976820</th>\n",
       "      <td>CARNE Y VISCERAS DE CERDO</td>\n",
       "      <td>27</td>\n",
       "      <td>5</td>\n",
       "    </tr>\n",
       "    <tr>\n",
       "      <th>4976821</th>\n",
       "      <td>CARNE DE AVE</td>\n",
       "      <td>27</td>\n",
       "      <td>5</td>\n",
       "    </tr>\n",
       "    <tr>\n",
       "      <th>4976824</th>\n",
       "      <td>CAFE</td>\n",
       "      <td>27</td>\n",
       "      <td>5</td>\n",
       "    </tr>\n",
       "    <tr>\n",
       "      <th>4976826</th>\n",
       "      <td>CARNES FRIAS SECAS Y EMBUTIDOS</td>\n",
       "      <td>27</td>\n",
       "      <td>5</td>\n",
       "    </tr>\n",
       "    <tr>\n",
       "      <th>4976832</th>\n",
       "      <td>DERIVADOS DE LECHE</td>\n",
       "      <td>27</td>\n",
       "      <td>5</td>\n",
       "    </tr>\n",
       "    <tr>\n",
       "      <th>4976835</th>\n",
       "      <td>LECHE PROCESADA</td>\n",
       "      <td>27</td>\n",
       "      <td>5</td>\n",
       "    </tr>\n",
       "    <tr>\n",
       "      <th>4976836</th>\n",
       "      <td>PESCADOS Y MARISCOS EN CONSERVA</td>\n",
       "      <td>27</td>\n",
       "      <td>5</td>\n",
       "    </tr>\n",
       "    <tr>\n",
       "      <th>4976837</th>\n",
       "      <td>PESCADOS Y MARISCOS</td>\n",
       "      <td>27</td>\n",
       "      <td>5</td>\n",
       "    </tr>\n",
       "    <tr>\n",
       "      <th>4976845</th>\n",
       "      <td>PRODUCTOS DE TEMPORADA (NAVIDEÐOS)</td>\n",
       "      <td>27</td>\n",
       "      <td>5</td>\n",
       "    </tr>\n",
       "    <tr>\n",
       "      <th>4976853</th>\n",
       "      <td>PAN</td>\n",
       "      <td>27</td>\n",
       "      <td>5</td>\n",
       "    </tr>\n",
       "    <tr>\n",
       "      <th>4976856</th>\n",
       "      <td>CERVEZA</td>\n",
       "      <td>27</td>\n",
       "      <td>5</td>\n",
       "    </tr>\n",
       "    <tr>\n",
       "      <th>4976880</th>\n",
       "      <td>HUEVO</td>\n",
       "      <td>27</td>\n",
       "      <td>5</td>\n",
       "    </tr>\n",
       "    <tr>\n",
       "      <th>4976893</th>\n",
       "      <td>DETERGENTES Y PRODUCTOS SIMILARES</td>\n",
       "      <td>27</td>\n",
       "      <td>5</td>\n",
       "    </tr>\n",
       "    <tr>\n",
       "      <th>4976896</th>\n",
       "      <td>LEGUMBRES SECAS</td>\n",
       "      <td>27</td>\n",
       "      <td>5</td>\n",
       "    </tr>\n",
       "    <tr>\n",
       "      <th>4976949</th>\n",
       "      <td>CARNE Y VISCERAS DE RES</td>\n",
       "      <td>27</td>\n",
       "      <td>5</td>\n",
       "    </tr>\n",
       "    <tr>\n",
       "      <th>4977096</th>\n",
       "      <td>GRASAS ANIMALES COMESTIBLES</td>\n",
       "      <td>27</td>\n",
       "      <td>5</td>\n",
       "    </tr>\n",
       "    <tr>\n",
       "      <th>4977323</th>\n",
       "      <td>APARATOS ELECTRICOS</td>\n",
       "      <td>27</td>\n",
       "      <td>5</td>\n",
       "    </tr>\n",
       "    <tr>\n",
       "      <th>4977458</th>\n",
       "      <td>APARATOS ELECTRONICOS</td>\n",
       "      <td>27</td>\n",
       "      <td>5</td>\n",
       "    </tr>\n",
       "    <tr>\n",
       "      <th>4977495</th>\n",
       "      <td>UTENSILIOS DOMESTICOS</td>\n",
       "      <td>27</td>\n",
       "      <td>5</td>\n",
       "    </tr>\n",
       "    <tr>\n",
       "      <th>4977506</th>\n",
       "      <td>ACCESORIOS DOMESTICOS</td>\n",
       "      <td>27</td>\n",
       "      <td>5</td>\n",
       "    </tr>\n",
       "    <tr>\n",
       "      <th>4977848</th>\n",
       "      <td>TE</td>\n",
       "      <td>27</td>\n",
       "      <td>5</td>\n",
       "    </tr>\n",
       "    <tr>\n",
       "      <th>4978017</th>\n",
       "      <td>MUEBLES DE COCINA</td>\n",
       "      <td>27</td>\n",
       "      <td>5</td>\n",
       "    </tr>\n",
       "  </tbody>\n",
       "</table>\n",
       "<p>6065 rows × 3 columns</p>\n",
       "</div>"
      ],
      "text/plain": [
       "                                  categoria  dia  mes\n",
       "0                          MATERIAL ESCOLAR   18    5\n",
       "9                                       PAN   10    1\n",
       "10       GALLETAS PASTAS Y HARINAS DE TRIGO   10    1\n",
       "15           ARTS. PARA EL CUIDADO PERSONAL   10    1\n",
       "16                      APARATOS ELECTRICOS   10    1\n",
       "23        ARTS. DE PAPEL P/HIGIENE PERSONAL   10    1\n",
       "29                             MEDICAMENTOS   10    1\n",
       "34       PRODUCTOS DE TEMPORADA (NAVIDEÐOS)   10    1\n",
       "41                    APARATOS ELECTRONICOS   10    1\n",
       "42                    ACCESORIOS DOMESTICOS   10    1\n",
       "43        DETERGENTES Y PRODUCTOS SIMILARES   10    1\n",
       "47                       HORTALIZAS FRESCAS   10    1\n",
       "48                           FRUTAS FRESCAS   10    1\n",
       "53                          LEGUMBRES SECAS   10    1\n",
       "59            FRUTAS Y LEGUMBRES PROCESADAS   10    1\n",
       "71                                     CAFE   10    1\n",
       "72                                   AZUCAR   10    1\n",
       "77                              CONDIMENTOS   10    1\n",
       "78                      REFRESCOS ENVASADOS   10    1\n",
       "83                   CHOCOLATES Y GOLOSINAS   10    1\n",
       "89              ARROZ Y CEREALES PREPARADOS   10    1\n",
       "93                        MUEBLES DE COCINA   10    1\n",
       "95                CARNE Y VISCERAS DE CERDO   10    1\n",
       "96                             CARNE DE AVE   10    1\n",
       "101          CARNES FRIAS SECAS Y EMBUTIDOS   10    1\n",
       "113         PESCADOS Y MARISCOS EN CONSERVA   10    1\n",
       "115                     PESCADOS Y MARISCOS   10    1\n",
       "119                      DERIVADOS DE LECHE   10    1\n",
       "121                         LECHE PROCESADA   10    1\n",
       "132       ACEITES Y GRASAS VEG. COMESTIBLES   10    1\n",
       "...                                     ...  ...  ...\n",
       "4976790      ARTS. PARA EL CUIDADO PERSONAL   27    5\n",
       "4976800   ARTS. DE PAPEL P/HIGIENE PERSONAL   27    5\n",
       "4976802                         CONDIMENTOS   27    5\n",
       "4976803                 REFRESCOS ENVASADOS   27    5\n",
       "4976807              CHOCOLATES Y GOLOSINAS   27    5\n",
       "4976808       FRUTAS Y LEGUMBRES PROCESADAS   27    5\n",
       "4976809                  HORTALIZAS FRESCAS   27    5\n",
       "4976814                              AZUCAR   27    5\n",
       "4976820           CARNE Y VISCERAS DE CERDO   27    5\n",
       "4976821                        CARNE DE AVE   27    5\n",
       "4976824                                CAFE   27    5\n",
       "4976826      CARNES FRIAS SECAS Y EMBUTIDOS   27    5\n",
       "4976832                  DERIVADOS DE LECHE   27    5\n",
       "4976835                     LECHE PROCESADA   27    5\n",
       "4976836     PESCADOS Y MARISCOS EN CONSERVA   27    5\n",
       "4976837                 PESCADOS Y MARISCOS   27    5\n",
       "4976845  PRODUCTOS DE TEMPORADA (NAVIDEÐOS)   27    5\n",
       "4976853                                 PAN   27    5\n",
       "4976856                             CERVEZA   27    5\n",
       "4976880                               HUEVO   27    5\n",
       "4976893   DETERGENTES Y PRODUCTOS SIMILARES   27    5\n",
       "4976896                     LEGUMBRES SECAS   27    5\n",
       "4976949             CARNE Y VISCERAS DE RES   27    5\n",
       "4977096         GRASAS ANIMALES COMESTIBLES   27    5\n",
       "4977323                 APARATOS ELECTRICOS   27    5\n",
       "4977458               APARATOS ELECTRONICOS   27    5\n",
       "4977495               UTENSILIOS DOMESTICOS   27    5\n",
       "4977506               ACCESORIOS DOMESTICOS   27    5\n",
       "4977848                                  TE   27    5\n",
       "4978017                   MUEBLES DE COCINA   27    5\n",
       "\n",
       "[6065 rows x 3 columns]"
      ]
     },
     "execution_count": 88,
     "metadata": {},
     "output_type": "execute_result"
    }
   ],
   "source": [
    "# Se obtuvieron las categorias por mes \n",
    "C0=pd.DataFrame({'categoria':datos['categoria'],'mes':datos['mes'],'dia':datos['dia']})\n",
    "C0.drop_duplicates()"
   ]
  },
  {
   "cell_type": "code",
   "execution_count": 29,
   "metadata": {
    "collapsed": false,
    "jupyter": {
     "outputs_hidden": false
    }
   },
   "outputs": [],
   "source": [
    "# Precios a través del año\n",
    "pv1=pd.pivot_table(datos,index=['fechaRegistro'],columns=['producto'],values=['precio'])"
   ]
  },
  {
   "cell_type": "code",
   "execution_count": 34,
   "metadata": {
    "collapsed": false,
    "jupyter": {
     "outputs_hidden": false
    }
   },
   "outputs": [
    {
     "data": {
      "text/plain": [
       "producto\n",
       "ABILIFY                             438.270000\n",
       "ACEITE                                6.516841\n",
       "ACEITE DE OLIVA                      13.066479\n",
       "ACEITUNA                             11.400000\n",
       "ACEITUNA. GORDAL                     25.674444\n",
       "ACEITUNA. MANZANILLA                 14.953333\n",
       "ACEITUNA. RELLENA CON PIMIENTO       24.242857\n",
       "ACELGA                                3.280250\n",
       "ACLORAL                              41.680000\n",
       "ACONDICIONADOR / ENJUAGUE             6.733333\n",
       "ACONDICIONADOR Y ENJUAGUE             4.762121\n",
       "ACTIFED                              25.501667\n",
       "ACULAREN                            120.160000\n",
       "ADEL                                111.700000\n",
       "ADEROGYL C                           28.100000\n",
       "ADVIL                                16.600000\n",
       "AEROFLUX                             84.700000\n",
       "AFRINEX ACTIVE                       17.283333\n",
       "AFUNGIL                              71.445000\n",
       "AGUA CON GAS                         11.125000\n",
       "AGUA SIN GAS                          1.861948\n",
       "AGUACATE                             50.704197\n",
       "AIRES ACONDICIONADOS               2265.683333\n",
       "AJO                                  33.954167\n",
       "AJONJOLI                             19.353000\n",
       "AKINETON                             78.480000\n",
       "ALCACHOFA                            78.350000\n",
       "ALCAPARRA                             4.746818\n",
       "ALCOHOL DESNATURALIZADO 70 G.L.       6.986667\n",
       "ALIMENTO PREPARADO P/NINOS            2.750000\n",
       "                                      ...     \n",
       "VARIOS                              385.013079\n",
       "VENTILADORES                       1189.250000\n",
       "VENTOLIN                            109.000000\n",
       "VERDOLAGA                            30.275000\n",
       "VERMOX                               27.600000\n",
       "VIAGRA                               56.785000\n",
       "VIDEOCAMARAS                       2090.625000\n",
       "VIDEOJUEGOS                         253.199771\n",
       "VIGAMOXI                            145.550000\n",
       "VILLAJAIBA                           50.000000\n",
       "VILONA                              183.830000\n",
       "VINAGRE                               3.595000\n",
       "VINO DE MESA                         17.359479\n",
       "VIRAZIDE                            323.000000\n",
       "VIVA                                  6.666667\n",
       "VOLTAREN RETARD                      71.500000\n",
       "XENICAL                             239.800000\n",
       "XL-DOL                               14.000000\n",
       "XL3                                  17.700000\n",
       "YOGHURT                              10.621612\n",
       "ZANAHORIA                             9.972570\n",
       "ZENTEL                               50.250000\n",
       "ZESTRIL                             160.000000\n",
       "ZINNAT                              194.950000\n",
       "ZOVIRAX                              81.500000\n",
       "ZOVIRAX DISPERSABLE                 647.570000\n",
       "ZUCARITAS                            18.760857\n",
       "ZWAN                                 22.833333\n",
       "ZWAN PREMIUM                         19.000000\n",
       "ZWAN. PREMIUM                        27.377681\n",
       "dtype: float64"
      ]
     },
     "execution_count": 34,
     "metadata": {},
     "output_type": "execute_result"
    }
   ],
   "source": [
    "# La diferencia de los precios a lo largo del año por producto \n",
    "pv1.precio.max()-pv1.precio.min()"
   ]
  },
  {
   "cell_type": "code",
   "execution_count": 102,
   "metadata": {
    "collapsed": false,
    "jupyter": {
     "outputs_hidden": false
    }
   },
   "outputs": [
    {
     "data": {
      "text/html": [
       "<div>\n",
       "<table border=\"1\" class=\"dataframe\">\n",
       "  <thead>\n",
       "    <tr>\n",
       "      <th></th>\n",
       "      <th colspan=\"21\" halign=\"left\">precio</th>\n",
       "    </tr>\n",
       "    <tr>\n",
       "      <th>categoria</th>\n",
       "      <th>ACCESORIOS DOMESTICOS</th>\n",
       "      <th>ACEITES Y GRASAS VEG. COMESTIBLES</th>\n",
       "      <th>APARATOS ELECTRICOS</th>\n",
       "      <th>APARATOS ELECTRONICOS</th>\n",
       "      <th>ARROZ Y CEREALES PREPARADOS</th>\n",
       "      <th>ARTS. DE ESPARCIMIENTO (JUGUETES)</th>\n",
       "      <th>ARTS. DE PAPEL P/HIGIENE PERSONAL</th>\n",
       "      <th>ARTS. PARA EL CUIDADO PERSONAL</th>\n",
       "      <th>AZUCAR</th>\n",
       "      <th>CAFE</th>\n",
       "      <th>...</th>\n",
       "      <th>MUEBLES DE COCINA</th>\n",
       "      <th>PAN</th>\n",
       "      <th>PESCADOS Y MARISCOS</th>\n",
       "      <th>PESCADOS Y MARISCOS EN CONSERVA</th>\n",
       "      <th>PRODUCTOS DE TEMPORADA (NAVIDEÐOS)</th>\n",
       "      <th>REFRESCOS ENVASADOS</th>\n",
       "      <th>TE</th>\n",
       "      <th>TORTILLAS Y DERIVADOS DEL MAIZ</th>\n",
       "      <th>UTENSILIOS DOMESTICOS</th>\n",
       "      <th>VINOS Y LICORES</th>\n",
       "    </tr>\n",
       "    <tr>\n",
       "      <th>mes</th>\n",
       "      <th></th>\n",
       "      <th></th>\n",
       "      <th></th>\n",
       "      <th></th>\n",
       "      <th></th>\n",
       "      <th></th>\n",
       "      <th></th>\n",
       "      <th></th>\n",
       "      <th></th>\n",
       "      <th></th>\n",
       "      <th></th>\n",
       "      <th></th>\n",
       "      <th></th>\n",
       "      <th></th>\n",
       "      <th></th>\n",
       "      <th></th>\n",
       "      <th></th>\n",
       "      <th></th>\n",
       "      <th></th>\n",
       "      <th></th>\n",
       "      <th></th>\n",
       "    </tr>\n",
       "  </thead>\n",
       "  <tbody>\n",
       "    <tr>\n",
       "      <th>1</th>\n",
       "      <td>34.106014</td>\n",
       "      <td>23.635665</td>\n",
       "      <td>2618.732637</td>\n",
       "      <td>6086.050526</td>\n",
       "      <td>24.017251</td>\n",
       "      <td>653.151261</td>\n",
       "      <td>47.737937</td>\n",
       "      <td>33.578255</td>\n",
       "      <td>34.125501</td>\n",
       "      <td>43.264648</td>\n",
       "      <td>...</td>\n",
       "      <td>5024.079481</td>\n",
       "      <td>14.294029</td>\n",
       "      <td>90.422944</td>\n",
       "      <td>13.876560</td>\n",
       "      <td>55.320346</td>\n",
       "      <td>12.823538</td>\n",
       "      <td>12.258620</td>\n",
       "      <td>11.846568</td>\n",
       "      <td>974.279101</td>\n",
       "      <td>NaN</td>\n",
       "    </tr>\n",
       "    <tr>\n",
       "      <th>2</th>\n",
       "      <td>32.806274</td>\n",
       "      <td>25.022883</td>\n",
       "      <td>2563.881153</td>\n",
       "      <td>5972.978557</td>\n",
       "      <td>23.843818</td>\n",
       "      <td>NaN</td>\n",
       "      <td>46.538018</td>\n",
       "      <td>33.575817</td>\n",
       "      <td>33.720562</td>\n",
       "      <td>44.549276</td>\n",
       "      <td>...</td>\n",
       "      <td>5020.408578</td>\n",
       "      <td>14.481943</td>\n",
       "      <td>91.179778</td>\n",
       "      <td>14.414681</td>\n",
       "      <td>55.223272</td>\n",
       "      <td>12.889045</td>\n",
       "      <td>12.401884</td>\n",
       "      <td>11.595280</td>\n",
       "      <td>1081.852911</td>\n",
       "      <td>NaN</td>\n",
       "    </tr>\n",
       "    <tr>\n",
       "      <th>3</th>\n",
       "      <td>33.868643</td>\n",
       "      <td>25.695114</td>\n",
       "      <td>2535.491123</td>\n",
       "      <td>5777.043034</td>\n",
       "      <td>23.895117</td>\n",
       "      <td>NaN</td>\n",
       "      <td>46.077182</td>\n",
       "      <td>33.334270</td>\n",
       "      <td>33.468494</td>\n",
       "      <td>45.387525</td>\n",
       "      <td>...</td>\n",
       "      <td>5059.068881</td>\n",
       "      <td>14.742246</td>\n",
       "      <td>91.282116</td>\n",
       "      <td>17.816476</td>\n",
       "      <td>53.414671</td>\n",
       "      <td>12.978416</td>\n",
       "      <td>12.806800</td>\n",
       "      <td>11.721809</td>\n",
       "      <td>1102.531024</td>\n",
       "      <td>NaN</td>\n",
       "    </tr>\n",
       "    <tr>\n",
       "      <th>4</th>\n",
       "      <td>36.452886</td>\n",
       "      <td>25.536186</td>\n",
       "      <td>2375.057040</td>\n",
       "      <td>5262.944240</td>\n",
       "      <td>24.348517</td>\n",
       "      <td>NaN</td>\n",
       "      <td>45.740008</td>\n",
       "      <td>33.103615</td>\n",
       "      <td>33.978427</td>\n",
       "      <td>45.683063</td>\n",
       "      <td>...</td>\n",
       "      <td>5014.285488</td>\n",
       "      <td>14.552582</td>\n",
       "      <td>94.012082</td>\n",
       "      <td>17.174268</td>\n",
       "      <td>53.094960</td>\n",
       "      <td>13.058014</td>\n",
       "      <td>13.438819</td>\n",
       "      <td>11.848459</td>\n",
       "      <td>1095.089056</td>\n",
       "      <td>NaN</td>\n",
       "    </tr>\n",
       "    <tr>\n",
       "      <th>5</th>\n",
       "      <td>35.707124</td>\n",
       "      <td>26.880169</td>\n",
       "      <td>2618.321312</td>\n",
       "      <td>5512.331738</td>\n",
       "      <td>25.445162</td>\n",
       "      <td>NaN</td>\n",
       "      <td>45.089847</td>\n",
       "      <td>32.696536</td>\n",
       "      <td>34.129703</td>\n",
       "      <td>46.777816</td>\n",
       "      <td>...</td>\n",
       "      <td>5006.544501</td>\n",
       "      <td>14.908186</td>\n",
       "      <td>97.797322</td>\n",
       "      <td>14.863088</td>\n",
       "      <td>53.470539</td>\n",
       "      <td>13.147195</td>\n",
       "      <td>13.008068</td>\n",
       "      <td>11.886871</td>\n",
       "      <td>1125.086023</td>\n",
       "      <td>NaN</td>\n",
       "    </tr>\n",
       "    <tr>\n",
       "      <th>6</th>\n",
       "      <td>35.220278</td>\n",
       "      <td>27.016092</td>\n",
       "      <td>2620.218321</td>\n",
       "      <td>5633.509843</td>\n",
       "      <td>26.508452</td>\n",
       "      <td>NaN</td>\n",
       "      <td>46.371079</td>\n",
       "      <td>33.235301</td>\n",
       "      <td>34.811837</td>\n",
       "      <td>47.735793</td>\n",
       "      <td>...</td>\n",
       "      <td>5074.433673</td>\n",
       "      <td>14.994142</td>\n",
       "      <td>98.726425</td>\n",
       "      <td>14.502107</td>\n",
       "      <td>53.999852</td>\n",
       "      <td>13.166016</td>\n",
       "      <td>12.962483</td>\n",
       "      <td>12.206077</td>\n",
       "      <td>1140.469730</td>\n",
       "      <td>NaN</td>\n",
       "    </tr>\n",
       "    <tr>\n",
       "      <th>7</th>\n",
       "      <td>42.960144</td>\n",
       "      <td>26.549669</td>\n",
       "      <td>2624.828677</td>\n",
       "      <td>5705.820702</td>\n",
       "      <td>26.533250</td>\n",
       "      <td>NaN</td>\n",
       "      <td>46.815017</td>\n",
       "      <td>32.788403</td>\n",
       "      <td>35.467766</td>\n",
       "      <td>47.593736</td>\n",
       "      <td>...</td>\n",
       "      <td>5022.363742</td>\n",
       "      <td>15.011148</td>\n",
       "      <td>105.013052</td>\n",
       "      <td>12.555008</td>\n",
       "      <td>53.030013</td>\n",
       "      <td>13.138959</td>\n",
       "      <td>13.060801</td>\n",
       "      <td>12.401364</td>\n",
       "      <td>1099.546306</td>\n",
       "      <td>NaN</td>\n",
       "    </tr>\n",
       "    <tr>\n",
       "      <th>8</th>\n",
       "      <td>46.843385</td>\n",
       "      <td>26.411433</td>\n",
       "      <td>2683.980296</td>\n",
       "      <td>5832.159199</td>\n",
       "      <td>26.639067</td>\n",
       "      <td>NaN</td>\n",
       "      <td>46.118548</td>\n",
       "      <td>32.214314</td>\n",
       "      <td>36.816833</td>\n",
       "      <td>47.153128</td>\n",
       "      <td>...</td>\n",
       "      <td>4990.703920</td>\n",
       "      <td>15.263606</td>\n",
       "      <td>103.638039</td>\n",
       "      <td>12.723466</td>\n",
       "      <td>51.891130</td>\n",
       "      <td>13.052231</td>\n",
       "      <td>12.597986</td>\n",
       "      <td>12.555032</td>\n",
       "      <td>1123.102075</td>\n",
       "      <td>NaN</td>\n",
       "    </tr>\n",
       "    <tr>\n",
       "      <th>9</th>\n",
       "      <td>49.474969</td>\n",
       "      <td>26.279484</td>\n",
       "      <td>2676.347676</td>\n",
       "      <td>5760.153764</td>\n",
       "      <td>26.867940</td>\n",
       "      <td>NaN</td>\n",
       "      <td>46.312091</td>\n",
       "      <td>31.773069</td>\n",
       "      <td>39.538990</td>\n",
       "      <td>48.272511</td>\n",
       "      <td>...</td>\n",
       "      <td>4877.395116</td>\n",
       "      <td>15.216935</td>\n",
       "      <td>104.145428</td>\n",
       "      <td>12.817761</td>\n",
       "      <td>51.754589</td>\n",
       "      <td>12.918282</td>\n",
       "      <td>12.582326</td>\n",
       "      <td>12.343810</td>\n",
       "      <td>1136.461108</td>\n",
       "      <td>NaN</td>\n",
       "    </tr>\n",
       "    <tr>\n",
       "      <th>10</th>\n",
       "      <td>49.076891</td>\n",
       "      <td>26.357364</td>\n",
       "      <td>2673.801653</td>\n",
       "      <td>5471.485319</td>\n",
       "      <td>26.353877</td>\n",
       "      <td>498.962176</td>\n",
       "      <td>45.747084</td>\n",
       "      <td>31.752070</td>\n",
       "      <td>39.568908</td>\n",
       "      <td>50.332925</td>\n",
       "      <td>...</td>\n",
       "      <td>4883.726596</td>\n",
       "      <td>15.080818</td>\n",
       "      <td>98.030591</td>\n",
       "      <td>13.230084</td>\n",
       "      <td>51.984623</td>\n",
       "      <td>12.950563</td>\n",
       "      <td>13.105307</td>\n",
       "      <td>12.494187</td>\n",
       "      <td>1159.182848</td>\n",
       "      <td>NaN</td>\n",
       "    </tr>\n",
       "    <tr>\n",
       "      <th>11</th>\n",
       "      <td>49.169841</td>\n",
       "      <td>26.780728</td>\n",
       "      <td>2728.298816</td>\n",
       "      <td>5263.064411</td>\n",
       "      <td>27.279925</td>\n",
       "      <td>546.497907</td>\n",
       "      <td>46.469239</td>\n",
       "      <td>31.890697</td>\n",
       "      <td>41.227519</td>\n",
       "      <td>50.948535</td>\n",
       "      <td>...</td>\n",
       "      <td>4971.213678</td>\n",
       "      <td>15.100651</td>\n",
       "      <td>100.301556</td>\n",
       "      <td>12.145747</td>\n",
       "      <td>53.985384</td>\n",
       "      <td>13.048079</td>\n",
       "      <td>13.141250</td>\n",
       "      <td>12.667419</td>\n",
       "      <td>1249.814049</td>\n",
       "      <td>115.057157</td>\n",
       "    </tr>\n",
       "    <tr>\n",
       "      <th>12</th>\n",
       "      <td>50.557582</td>\n",
       "      <td>27.241986</td>\n",
       "      <td>2867.025718</td>\n",
       "      <td>5227.050414</td>\n",
       "      <td>27.688664</td>\n",
       "      <td>565.239008</td>\n",
       "      <td>48.109971</td>\n",
       "      <td>32.329125</td>\n",
       "      <td>41.549646</td>\n",
       "      <td>51.797231</td>\n",
       "      <td>...</td>\n",
       "      <td>5009.130452</td>\n",
       "      <td>14.580233</td>\n",
       "      <td>144.056937</td>\n",
       "      <td>12.086721</td>\n",
       "      <td>63.350594</td>\n",
       "      <td>13.193274</td>\n",
       "      <td>12.893276</td>\n",
       "      <td>12.622822</td>\n",
       "      <td>1176.464373</td>\n",
       "      <td>112.586435</td>\n",
       "    </tr>\n",
       "  </tbody>\n",
       "</table>\n",
       "<p>12 rows × 39 columns</p>\n",
       "</div>"
      ],
      "text/plain": [
       "                         precio                                    \\\n",
       "categoria ACCESORIOS DOMESTICOS ACEITES Y GRASAS VEG. COMESTIBLES   \n",
       "mes                                                                 \n",
       "1                     34.106014                         23.635665   \n",
       "2                     32.806274                         25.022883   \n",
       "3                     33.868643                         25.695114   \n",
       "4                     36.452886                         25.536186   \n",
       "5                     35.707124                         26.880169   \n",
       "6                     35.220278                         27.016092   \n",
       "7                     42.960144                         26.549669   \n",
       "8                     46.843385                         26.411433   \n",
       "9                     49.474969                         26.279484   \n",
       "10                    49.076891                         26.357364   \n",
       "11                    49.169841                         26.780728   \n",
       "12                    50.557582                         27.241986   \n",
       "\n",
       "                                                     \\\n",
       "categoria APARATOS ELECTRICOS APARATOS ELECTRONICOS   \n",
       "mes                                                   \n",
       "1                 2618.732637           6086.050526   \n",
       "2                 2563.881153           5972.978557   \n",
       "3                 2535.491123           5777.043034   \n",
       "4                 2375.057040           5262.944240   \n",
       "5                 2618.321312           5512.331738   \n",
       "6                 2620.218321           5633.509843   \n",
       "7                 2624.828677           5705.820702   \n",
       "8                 2683.980296           5832.159199   \n",
       "9                 2676.347676           5760.153764   \n",
       "10                2673.801653           5471.485319   \n",
       "11                2728.298816           5263.064411   \n",
       "12                2867.025718           5227.050414   \n",
       "\n",
       "                                                                         \\\n",
       "categoria ARROZ Y CEREALES PREPARADOS ARTS. DE ESPARCIMIENTO (JUGUETES)   \n",
       "mes                                                                       \n",
       "1                           24.017251                        653.151261   \n",
       "2                           23.843818                               NaN   \n",
       "3                           23.895117                               NaN   \n",
       "4                           24.348517                               NaN   \n",
       "5                           25.445162                               NaN   \n",
       "6                           26.508452                               NaN   \n",
       "7                           26.533250                               NaN   \n",
       "8                           26.639067                               NaN   \n",
       "9                           26.867940                               NaN   \n",
       "10                          26.353877                        498.962176   \n",
       "11                          27.279925                        546.497907   \n",
       "12                          27.688664                        565.239008   \n",
       "\n",
       "                                                                            \\\n",
       "categoria ARTS. DE PAPEL P/HIGIENE PERSONAL ARTS. PARA EL CUIDADO PERSONAL   \n",
       "mes                                                                          \n",
       "1                                 47.737937                      33.578255   \n",
       "2                                 46.538018                      33.575817   \n",
       "3                                 46.077182                      33.334270   \n",
       "4                                 45.740008                      33.103615   \n",
       "5                                 45.089847                      32.696536   \n",
       "6                                 46.371079                      33.235301   \n",
       "7                                 46.815017                      32.788403   \n",
       "8                                 46.118548                      32.214314   \n",
       "9                                 46.312091                      31.773069   \n",
       "10                                45.747084                      31.752070   \n",
       "11                                46.469239                      31.890697   \n",
       "12                                48.109971                      32.329125   \n",
       "\n",
       "                                      ...                                     \\\n",
       "categoria     AZUCAR       CAFE       ...       MUEBLES DE COCINA        PAN   \n",
       "mes                                   ...                                      \n",
       "1          34.125501  43.264648       ...             5024.079481  14.294029   \n",
       "2          33.720562  44.549276       ...             5020.408578  14.481943   \n",
       "3          33.468494  45.387525       ...             5059.068881  14.742246   \n",
       "4          33.978427  45.683063       ...             5014.285488  14.552582   \n",
       "5          34.129703  46.777816       ...             5006.544501  14.908186   \n",
       "6          34.811837  47.735793       ...             5074.433673  14.994142   \n",
       "7          35.467766  47.593736       ...             5022.363742  15.011148   \n",
       "8          36.816833  47.153128       ...             4990.703920  15.263606   \n",
       "9          39.538990  48.272511       ...             4877.395116  15.216935   \n",
       "10         39.568908  50.332925       ...             4883.726596  15.080818   \n",
       "11         41.227519  50.948535       ...             4971.213678  15.100651   \n",
       "12         41.549646  51.797231       ...             5009.130452  14.580233   \n",
       "\n",
       "                                                               \\\n",
       "categoria PESCADOS Y MARISCOS PESCADOS Y MARISCOS EN CONSERVA   \n",
       "mes                                                             \n",
       "1                   90.422944                       13.876560   \n",
       "2                   91.179778                       14.414681   \n",
       "3                   91.282116                       17.816476   \n",
       "4                   94.012082                       17.174268   \n",
       "5                   97.797322                       14.863088   \n",
       "6                   98.726425                       14.502107   \n",
       "7                  105.013052                       12.555008   \n",
       "8                  103.638039                       12.723466   \n",
       "9                  104.145428                       12.817761   \n",
       "10                  98.030591                       13.230084   \n",
       "11                 100.301556                       12.145747   \n",
       "12                 144.056937                       12.086721   \n",
       "\n",
       "                                                                             \\\n",
       "categoria PRODUCTOS DE TEMPORADA (NAVIDEÐOS) REFRESCOS ENVASADOS         TE   \n",
       "mes                                                                           \n",
       "1                                  55.320346           12.823538  12.258620   \n",
       "2                                  55.223272           12.889045  12.401884   \n",
       "3                                  53.414671           12.978416  12.806800   \n",
       "4                                  53.094960           13.058014  13.438819   \n",
       "5                                  53.470539           13.147195  13.008068   \n",
       "6                                  53.999852           13.166016  12.962483   \n",
       "7                                  53.030013           13.138959  13.060801   \n",
       "8                                  51.891130           13.052231  12.597986   \n",
       "9                                  51.754589           12.918282  12.582326   \n",
       "10                                 51.984623           12.950563  13.105307   \n",
       "11                                 53.985384           13.048079  13.141250   \n",
       "12                                 63.350594           13.193274  12.893276   \n",
       "\n",
       "                                                                                \n",
       "categoria TORTILLAS Y DERIVADOS DEL MAIZ UTENSILIOS DOMESTICOS VINOS Y LICORES  \n",
       "mes                                                                             \n",
       "1                              11.846568            974.279101             NaN  \n",
       "2                              11.595280           1081.852911             NaN  \n",
       "3                              11.721809           1102.531024             NaN  \n",
       "4                              11.848459           1095.089056             NaN  \n",
       "5                              11.886871           1125.086023             NaN  \n",
       "6                              12.206077           1140.469730             NaN  \n",
       "7                              12.401364           1099.546306             NaN  \n",
       "8                              12.555032           1123.102075             NaN  \n",
       "9                              12.343810           1136.461108             NaN  \n",
       "10                             12.494187           1159.182848             NaN  \n",
       "11                             12.667419           1249.814049      115.057157  \n",
       "12                             12.622822           1176.464373      112.586435  \n",
       "\n",
       "[12 rows x 39 columns]"
      ]
     },
     "execution_count": 102,
     "metadata": {},
     "output_type": "execute_result"
    }
   ],
   "source": [
    "# Tendencia de los precios por mes para cada categoría\n",
    "pd.pivot_table(datos,index=['mes'],columns=['categoria'],values=['precio'])"
   ]
  },
  {
   "cell_type": "code",
   "execution_count": 104,
   "metadata": {
    "collapsed": false,
    "jupyter": {
     "outputs_hidden": false
    }
   },
   "outputs": [
    {
     "data": {
      "text/html": [
       "<div>\n",
       "<table border=\"1\" class=\"dataframe\">\n",
       "  <thead>\n",
       "    <tr>\n",
       "      <th></th>\n",
       "      <th colspan=\"21\" halign=\"left\">precio</th>\n",
       "    </tr>\n",
       "    <tr>\n",
       "      <th>producto</th>\n",
       "      <th>ABILIFY</th>\n",
       "      <th>ACEITE</th>\n",
       "      <th>ACEITE DE OLIVA</th>\n",
       "      <th>ACEITUNA</th>\n",
       "      <th>ACEITUNA. GORDAL</th>\n",
       "      <th>ACEITUNA. MANZANILLA</th>\n",
       "      <th>ACEITUNA. RELLENA CON PIMIENTO</th>\n",
       "      <th>ACELGA</th>\n",
       "      <th>ACLORAL</th>\n",
       "      <th>ACONDICIONADOR / ENJUAGUE</th>\n",
       "      <th>...</th>\n",
       "      <th>ZANAHORIA</th>\n",
       "      <th>ZENTEL</th>\n",
       "      <th>ZESTRIL</th>\n",
       "      <th>ZINNAT</th>\n",
       "      <th>ZOVIRAX</th>\n",
       "      <th>ZOVIRAX DISPERSABLE</th>\n",
       "      <th>ZUCARITAS</th>\n",
       "      <th>ZWAN</th>\n",
       "      <th>ZWAN PREMIUM</th>\n",
       "      <th>ZWAN. PREMIUM</th>\n",
       "    </tr>\n",
       "    <tr>\n",
       "      <th>mes</th>\n",
       "      <th></th>\n",
       "      <th></th>\n",
       "      <th></th>\n",
       "      <th></th>\n",
       "      <th></th>\n",
       "      <th></th>\n",
       "      <th></th>\n",
       "      <th></th>\n",
       "      <th></th>\n",
       "      <th></th>\n",
       "      <th></th>\n",
       "      <th></th>\n",
       "      <th></th>\n",
       "      <th></th>\n",
       "      <th></th>\n",
       "      <th></th>\n",
       "      <th></th>\n",
       "      <th></th>\n",
       "      <th></th>\n",
       "      <th></th>\n",
       "      <th></th>\n",
       "    </tr>\n",
       "  </thead>\n",
       "  <tbody>\n",
       "    <tr>\n",
       "      <th>1</th>\n",
       "      <td>748.554597</td>\n",
       "      <td>26.121068</td>\n",
       "      <td>78.638045</td>\n",
       "      <td>24.591947</td>\n",
       "      <td>81.004515</td>\n",
       "      <td>61.417118</td>\n",
       "      <td>92.250478</td>\n",
       "      <td>5.193661</td>\n",
       "      <td>74.995585</td>\n",
       "      <td>40.736096</td>\n",
       "      <td>...</td>\n",
       "      <td>11.370000</td>\n",
       "      <td>91.662893</td>\n",
       "      <td>278.130575</td>\n",
       "      <td>423.520357</td>\n",
       "      <td>181.559112</td>\n",
       "      <td>1612.753307</td>\n",
       "      <td>35.869221</td>\n",
       "      <td>62.262137</td>\n",
       "      <td>95.0</td>\n",
       "      <td>80.022410</td>\n",
       "    </tr>\n",
       "    <tr>\n",
       "      <th>2</th>\n",
       "      <td>753.152327</td>\n",
       "      <td>27.639008</td>\n",
       "      <td>78.115626</td>\n",
       "      <td>24.049051</td>\n",
       "      <td>81.462965</td>\n",
       "      <td>60.501810</td>\n",
       "      <td>93.371154</td>\n",
       "      <td>4.882337</td>\n",
       "      <td>74.944411</td>\n",
       "      <td>40.063726</td>\n",
       "      <td>...</td>\n",
       "      <td>14.675509</td>\n",
       "      <td>91.382695</td>\n",
       "      <td>280.901516</td>\n",
       "      <td>422.546448</td>\n",
       "      <td>182.715251</td>\n",
       "      <td>1607.280253</td>\n",
       "      <td>36.054756</td>\n",
       "      <td>61.763114</td>\n",
       "      <td>86.5</td>\n",
       "      <td>79.689502</td>\n",
       "    </tr>\n",
       "    <tr>\n",
       "      <th>3</th>\n",
       "      <td>744.664706</td>\n",
       "      <td>28.656387</td>\n",
       "      <td>75.985113</td>\n",
       "      <td>23.677070</td>\n",
       "      <td>82.400120</td>\n",
       "      <td>60.025249</td>\n",
       "      <td>94.028469</td>\n",
       "      <td>4.669707</td>\n",
       "      <td>75.958704</td>\n",
       "      <td>39.660387</td>\n",
       "      <td>...</td>\n",
       "      <td>14.157717</td>\n",
       "      <td>95.535551</td>\n",
       "      <td>282.550263</td>\n",
       "      <td>418.224846</td>\n",
       "      <td>182.876926</td>\n",
       "      <td>1592.835802</td>\n",
       "      <td>35.647391</td>\n",
       "      <td>61.535070</td>\n",
       "      <td>80.0</td>\n",
       "      <td>79.235181</td>\n",
       "    </tr>\n",
       "    <tr>\n",
       "      <th>4</th>\n",
       "      <td>746.641302</td>\n",
       "      <td>28.824812</td>\n",
       "      <td>76.059131</td>\n",
       "      <td>24.330193</td>\n",
       "      <td>83.871579</td>\n",
       "      <td>59.931889</td>\n",
       "      <td>93.949321</td>\n",
       "      <td>4.898805</td>\n",
       "      <td>75.423714</td>\n",
       "      <td>39.881488</td>\n",
       "      <td>...</td>\n",
       "      <td>9.254915</td>\n",
       "      <td>98.860136</td>\n",
       "      <td>283.573966</td>\n",
       "      <td>421.491142</td>\n",
       "      <td>179.620085</td>\n",
       "      <td>1599.662582</td>\n",
       "      <td>37.554508</td>\n",
       "      <td>61.326314</td>\n",
       "      <td>96.2</td>\n",
       "      <td>79.285304</td>\n",
       "    </tr>\n",
       "    <tr>\n",
       "      <th>5</th>\n",
       "      <td>751.036866</td>\n",
       "      <td>29.327442</td>\n",
       "      <td>75.523428</td>\n",
       "      <td>25.246455</td>\n",
       "      <td>87.293462</td>\n",
       "      <td>59.909551</td>\n",
       "      <td>94.562500</td>\n",
       "      <td>5.143878</td>\n",
       "      <td>75.435506</td>\n",
       "      <td>39.122729</td>\n",
       "      <td>...</td>\n",
       "      <td>7.647368</td>\n",
       "      <td>98.714630</td>\n",
       "      <td>281.385000</td>\n",
       "      <td>417.841029</td>\n",
       "      <td>180.214147</td>\n",
       "      <td>1615.007081</td>\n",
       "      <td>41.901743</td>\n",
       "      <td>62.598879</td>\n",
       "      <td>98.0</td>\n",
       "      <td>83.574487</td>\n",
       "    </tr>\n",
       "    <tr>\n",
       "      <th>6</th>\n",
       "      <td>744.888861</td>\n",
       "      <td>30.040361</td>\n",
       "      <td>76.580659</td>\n",
       "      <td>25.182592</td>\n",
       "      <td>85.871681</td>\n",
       "      <td>59.528227</td>\n",
       "      <td>94.717216</td>\n",
       "      <td>4.840891</td>\n",
       "      <td>75.474669</td>\n",
       "      <td>39.394552</td>\n",
       "      <td>...</td>\n",
       "      <td>7.327129</td>\n",
       "      <td>97.968603</td>\n",
       "      <td>285.415451</td>\n",
       "      <td>415.339173</td>\n",
       "      <td>182.099604</td>\n",
       "      <td>1576.374025</td>\n",
       "      <td>36.559889</td>\n",
       "      <td>63.057408</td>\n",
       "      <td>NaN</td>\n",
       "      <td>85.896183</td>\n",
       "    </tr>\n",
       "    <tr>\n",
       "      <th>7</th>\n",
       "      <td>748.502061</td>\n",
       "      <td>30.181051</td>\n",
       "      <td>74.923265</td>\n",
       "      <td>25.297732</td>\n",
       "      <td>85.474935</td>\n",
       "      <td>59.042948</td>\n",
       "      <td>93.233984</td>\n",
       "      <td>5.012453</td>\n",
       "      <td>76.084714</td>\n",
       "      <td>39.232483</td>\n",
       "      <td>...</td>\n",
       "      <td>7.687323</td>\n",
       "      <td>98.922182</td>\n",
       "      <td>286.675470</td>\n",
       "      <td>419.216321</td>\n",
       "      <td>181.423003</td>\n",
       "      <td>1576.617143</td>\n",
       "      <td>35.886227</td>\n",
       "      <td>62.285437</td>\n",
       "      <td>89.0</td>\n",
       "      <td>84.580176</td>\n",
       "    </tr>\n",
       "    <tr>\n",
       "      <th>8</th>\n",
       "      <td>745.162012</td>\n",
       "      <td>30.229490</td>\n",
       "      <td>73.586222</td>\n",
       "      <td>24.883688</td>\n",
       "      <td>86.177595</td>\n",
       "      <td>59.258090</td>\n",
       "      <td>94.561481</td>\n",
       "      <td>5.239539</td>\n",
       "      <td>76.317328</td>\n",
       "      <td>37.750442</td>\n",
       "      <td>...</td>\n",
       "      <td>7.792851</td>\n",
       "      <td>98.722812</td>\n",
       "      <td>286.995249</td>\n",
       "      <td>415.339888</td>\n",
       "      <td>179.858889</td>\n",
       "      <td>1576.433742</td>\n",
       "      <td>36.987125</td>\n",
       "      <td>61.675160</td>\n",
       "      <td>NaN</td>\n",
       "      <td>83.460716</td>\n",
       "    </tr>\n",
       "    <tr>\n",
       "      <th>9</th>\n",
       "      <td>750.250643</td>\n",
       "      <td>30.080188</td>\n",
       "      <td>74.486402</td>\n",
       "      <td>24.448962</td>\n",
       "      <td>85.911623</td>\n",
       "      <td>59.637312</td>\n",
       "      <td>95.868539</td>\n",
       "      <td>5.036066</td>\n",
       "      <td>75.553660</td>\n",
       "      <td>36.909246</td>\n",
       "      <td>...</td>\n",
       "      <td>8.575924</td>\n",
       "      <td>97.636173</td>\n",
       "      <td>291.469118</td>\n",
       "      <td>417.885714</td>\n",
       "      <td>183.292086</td>\n",
       "      <td>1569.933876</td>\n",
       "      <td>35.793568</td>\n",
       "      <td>62.354615</td>\n",
       "      <td>NaN</td>\n",
       "      <td>83.272858</td>\n",
       "    </tr>\n",
       "    <tr>\n",
       "      <th>10</th>\n",
       "      <td>750.104034</td>\n",
       "      <td>30.028403</td>\n",
       "      <td>73.518520</td>\n",
       "      <td>23.846112</td>\n",
       "      <td>86.832881</td>\n",
       "      <td>59.063463</td>\n",
       "      <td>95.374752</td>\n",
       "      <td>4.905439</td>\n",
       "      <td>75.228876</td>\n",
       "      <td>37.990563</td>\n",
       "      <td>...</td>\n",
       "      <td>9.594589</td>\n",
       "      <td>97.501398</td>\n",
       "      <td>293.147211</td>\n",
       "      <td>368.964959</td>\n",
       "      <td>183.126414</td>\n",
       "      <td>1558.682701</td>\n",
       "      <td>35.352370</td>\n",
       "      <td>66.808117</td>\n",
       "      <td>NaN</td>\n",
       "      <td>92.087420</td>\n",
       "    </tr>\n",
       "    <tr>\n",
       "      <th>11</th>\n",
       "      <td>766.541955</td>\n",
       "      <td>30.692190</td>\n",
       "      <td>71.951354</td>\n",
       "      <td>22.161945</td>\n",
       "      <td>88.152149</td>\n",
       "      <td>62.242109</td>\n",
       "      <td>100.067647</td>\n",
       "      <td>5.027969</td>\n",
       "      <td>75.238413</td>\n",
       "      <td>38.972720</td>\n",
       "      <td>...</td>\n",
       "      <td>9.119169</td>\n",
       "      <td>97.627606</td>\n",
       "      <td>289.949441</td>\n",
       "      <td>374.006316</td>\n",
       "      <td>180.998772</td>\n",
       "      <td>1592.174054</td>\n",
       "      <td>36.568711</td>\n",
       "      <td>66.880549</td>\n",
       "      <td>NaN</td>\n",
       "      <td>91.852255</td>\n",
       "    </tr>\n",
       "    <tr>\n",
       "      <th>12</th>\n",
       "      <td>748.699255</td>\n",
       "      <td>31.303950</td>\n",
       "      <td>70.378042</td>\n",
       "      <td>21.949879</td>\n",
       "      <td>86.308767</td>\n",
       "      <td>63.590118</td>\n",
       "      <td>100.410843</td>\n",
       "      <td>5.426953</td>\n",
       "      <td>76.074413</td>\n",
       "      <td>39.715063</td>\n",
       "      <td>...</td>\n",
       "      <td>8.612139</td>\n",
       "      <td>95.839048</td>\n",
       "      <td>291.867981</td>\n",
       "      <td>358.194882</td>\n",
       "      <td>182.639242</td>\n",
       "      <td>1562.370562</td>\n",
       "      <td>37.415082</td>\n",
       "      <td>69.302873</td>\n",
       "      <td>NaN</td>\n",
       "      <td>94.182543</td>\n",
       "    </tr>\n",
       "  </tbody>\n",
       "</table>\n",
       "<p>12 rows × 666 columns</p>\n",
       "</div>"
      ],
      "text/plain": [
       "              precio                                                         \\\n",
       "producto     ABILIFY     ACEITE ACEITE DE OLIVA   ACEITUNA ACEITUNA. GORDAL   \n",
       "mes                                                                           \n",
       "1         748.554597  26.121068       78.638045  24.591947        81.004515   \n",
       "2         753.152327  27.639008       78.115626  24.049051        81.462965   \n",
       "3         744.664706  28.656387       75.985113  23.677070        82.400120   \n",
       "4         746.641302  28.824812       76.059131  24.330193        83.871579   \n",
       "5         751.036866  29.327442       75.523428  25.246455        87.293462   \n",
       "6         744.888861  30.040361       76.580659  25.182592        85.871681   \n",
       "7         748.502061  30.181051       74.923265  25.297732        85.474935   \n",
       "8         745.162012  30.229490       73.586222  24.883688        86.177595   \n",
       "9         750.250643  30.080188       74.486402  24.448962        85.911623   \n",
       "10        750.104034  30.028403       73.518520  23.846112        86.832881   \n",
       "11        766.541955  30.692190       71.951354  22.161945        88.152149   \n",
       "12        748.699255  31.303950       70.378042  21.949879        86.308767   \n",
       "\n",
       "                                                                        \\\n",
       "producto ACEITUNA. MANZANILLA ACEITUNA. RELLENA CON PIMIENTO    ACELGA   \n",
       "mes                                                                      \n",
       "1                   61.417118                      92.250478  5.193661   \n",
       "2                   60.501810                      93.371154  4.882337   \n",
       "3                   60.025249                      94.028469  4.669707   \n",
       "4                   59.931889                      93.949321  4.898805   \n",
       "5                   59.909551                      94.562500  5.143878   \n",
       "6                   59.528227                      94.717216  4.840891   \n",
       "7                   59.042948                      93.233984  5.012453   \n",
       "8                   59.258090                      94.561481  5.239539   \n",
       "9                   59.637312                      95.868539  5.036066   \n",
       "10                  59.063463                      95.374752  4.905439   \n",
       "11                  62.242109                     100.067647  5.027969   \n",
       "12                  63.590118                     100.410843  5.426953   \n",
       "\n",
       "                                                   ...                  \\\n",
       "producto    ACLORAL ACONDICIONADOR / ENJUAGUE      ...       ZANAHORIA   \n",
       "mes                                                ...                   \n",
       "1         74.995585                 40.736096      ...       11.370000   \n",
       "2         74.944411                 40.063726      ...       14.675509   \n",
       "3         75.958704                 39.660387      ...       14.157717   \n",
       "4         75.423714                 39.881488      ...        9.254915   \n",
       "5         75.435506                 39.122729      ...        7.647368   \n",
       "6         75.474669                 39.394552      ...        7.327129   \n",
       "7         76.084714                 39.232483      ...        7.687323   \n",
       "8         76.317328                 37.750442      ...        7.792851   \n",
       "9         75.553660                 36.909246      ...        8.575924   \n",
       "10        75.228876                 37.990563      ...        9.594589   \n",
       "11        75.238413                 38.972720      ...        9.119169   \n",
       "12        76.074413                 39.715063      ...        8.612139   \n",
       "\n",
       "                                                                             \\\n",
       "producto     ZENTEL     ZESTRIL      ZINNAT     ZOVIRAX ZOVIRAX DISPERSABLE   \n",
       "mes                                                                           \n",
       "1         91.662893  278.130575  423.520357  181.559112         1612.753307   \n",
       "2         91.382695  280.901516  422.546448  182.715251         1607.280253   \n",
       "3         95.535551  282.550263  418.224846  182.876926         1592.835802   \n",
       "4         98.860136  283.573966  421.491142  179.620085         1599.662582   \n",
       "5         98.714630  281.385000  417.841029  180.214147         1615.007081   \n",
       "6         97.968603  285.415451  415.339173  182.099604         1576.374025   \n",
       "7         98.922182  286.675470  419.216321  181.423003         1576.617143   \n",
       "8         98.722812  286.995249  415.339888  179.858889         1576.433742   \n",
       "9         97.636173  291.469118  417.885714  183.292086         1569.933876   \n",
       "10        97.501398  293.147211  368.964959  183.126414         1558.682701   \n",
       "11        97.627606  289.949441  374.006316  180.998772         1592.174054   \n",
       "12        95.839048  291.867981  358.194882  182.639242         1562.370562   \n",
       "\n",
       "                                                           \n",
       "producto  ZUCARITAS       ZWAN ZWAN PREMIUM ZWAN. PREMIUM  \n",
       "mes                                                        \n",
       "1         35.869221  62.262137         95.0     80.022410  \n",
       "2         36.054756  61.763114         86.5     79.689502  \n",
       "3         35.647391  61.535070         80.0     79.235181  \n",
       "4         37.554508  61.326314         96.2     79.285304  \n",
       "5         41.901743  62.598879         98.0     83.574487  \n",
       "6         36.559889  63.057408          NaN     85.896183  \n",
       "7         35.886227  62.285437         89.0     84.580176  \n",
       "8         36.987125  61.675160          NaN     83.460716  \n",
       "9         35.793568  62.354615          NaN     83.272858  \n",
       "10        35.352370  66.808117          NaN     92.087420  \n",
       "11        36.568711  66.880549          NaN     91.852255  \n",
       "12        37.415082  69.302873          NaN     94.182543  \n",
       "\n",
       "[12 rows x 666 columns]"
      ]
     },
     "execution_count": 104,
     "metadata": {},
     "output_type": "execute_result"
    }
   ],
   "source": [
    "# Tendencia de los precios por mes para cada producto\n",
    "pd.pivot_table(datos,index=['mes'],columns=['producto'],values=['precio'])"
   ]
  },
  {
   "cell_type": "code",
   "execution_count": 106,
   "metadata": {
    "collapsed": true,
    "jupyter": {
     "outputs_hidden": true
    }
   },
   "outputs": [],
   "source": [
    "''' Se saco en una nueva matriz la categoria, producto, precio. De ahí se sacaron los precios máximos y mínimos \n",
    "para la obtención de la diferencia máxima y mínima de los productos '''\n",
    "C1=pd.DataFrame({'categoria':datos['categoria'],'producto':datos['producto'],'precio':datos['precio']})\n",
    "diff=C1.groupby(['categoria','producto']).precio.max()-C1.groupby(['categoria','producto']).precio.min()"
   ]
  },
  {
   "cell_type": "code",
   "execution_count": 13,
   "metadata": {
    "collapsed": false,
    "jupyter": {
     "outputs_hidden": false
    }
   },
   "outputs": [
    {
     "data": {
      "text/plain": [
       "categoria              producto   \n",
       "APARATOS ELECTRONICOS  TELEVISORES    99201.0\n",
       "Name: precio, dtype: float64"
      ]
     },
     "execution_count": 13,
     "metadata": {},
     "output_type": "execute_result"
    }
   ],
   "source": [
    "# Se obtuvo la diferencia máxima por categoría y producto\n",
    "diff.loc[diff==diff.max()]"
   ]
  },
  {
   "cell_type": "code",
   "execution_count": 14,
   "metadata": {
    "collapsed": false,
    "jupyter": {
     "outputs_hidden": false
    }
   },
   "outputs": [
    {
     "data": {
      "text/plain": [
       "categoria                           producto  \n",
       "PESCADOS Y MARISCOS                 ANGULA        0.0\n",
       "                                    BOQUERON      0.0\n",
       "                                    OSTION        0.0\n",
       "                                    SARGO         0.0\n",
       "                                    TIBURON       0.0\n",
       "PRODUCTOS DE TEMPORADA (NAVIDEÐOS)  PELADILLAS    0.0\n",
       "Name: precio, dtype: float64"
      ]
     },
     "execution_count": 14,
     "metadata": {},
     "output_type": "execute_result"
    }
   ],
   "source": [
    "# La diferencia mínima\n",
    "diff.loc[diff==diff.min()]"
   ]
  },
  {
   "cell_type": "code",
   "execution_count": 38,
   "metadata": {
    "collapsed": false,
    "jupyter": {
     "outputs_hidden": false
    }
   },
   "outputs": [
    {
     "data": {
      "text/plain": [
       "<matplotlib.axes._subplots.AxesSubplot at 0x1f800c18>"
      ]
     },
     "execution_count": 38,
     "metadata": {},
     "output_type": "execute_result"
    },
    {
     "data": {
      "image/png": "[encoded data removed]",
      "text/plain": [
       "<matplotlib.figure.Figure at 0x172ca908>"
      ]
     },
     "metadata": {},
     "output_type": "display_data"
    }
   ],
   "source": [
    "# Se saco el histograma de los precios la cual tiene una distribución acotada a la izquierda\n",
    "datos['precio'].dropna().astype(int).hist(bins=70, range=[0,12000])"
   ]
  },
  {
   "cell_type": "code",
   "execution_count": 103,
   "metadata": {
    "collapsed": false,
    "jupyter": {
     "outputs_hidden": false
    }
   },
   "outputs": [
    {
     "data": {
      "text/plain": [
       "<matplotlib.axes._subplots.AxesSubplot at 0x1902f5f8>"
      ]
     },
     "execution_count": 103,
     "metadata": {},
     "output_type": "execute_result"
    },
    {
     "data": {
      "image/png": "[encoded data removed]",
      "text/plain": [
       "<matplotlib.figure.Figure at 0x1904e978>"
      ]
     },
     "metadata": {},
     "output_type": "display_data"
    }
   ],
   "source": [
    "# El histograma de latitud es poco debido a que tiene muchos datos faltantes \n",
    "datos['latitud'].dropna().astype(int).hist(bins=50)"
   ]
  },
  {
   "cell_type": "code",
   "execution_count": 40,
   "metadata": {
    "collapsed": false,
    "jupyter": {
     "outputs_hidden": false
    }
   },
   "outputs": [
    {
     "data": {
      "text/plain": [
       "<matplotlib.axes._subplots.AxesSubplot at 0x30b37cc0>"
      ]
     },
     "execution_count": 40,
     "metadata": {},
     "output_type": "execute_result"
    },
    {
     "data": {
      "image/png": "[encoded data removed]",
      "text/plain": [
       "<matplotlib.figure.Figure at 0x13e7db38>"
      ]
     },
     "metadata": {},
     "output_type": "display_data"
    }
   ],
   "source": [
    "# El histograma de la longitud con pocos datos debido a que faltan muchos datos\n",
    "datos['longitud'].dropna().astype(int).hist(bins=50)"
   ]
  },
  {
   "cell_type": "code",
   "execution_count": 41,
   "metadata": {
    "collapsed": false,
    "jupyter": {
     "outputs_hidden": false
    }
   },
   "outputs": [
    {
     "data": {
      "text/plain": [
       "count    4.999999e+06\n",
       "mean     4.719949e+02\n",
       "std      1.876400e+03\n",
       "min      4.500000e-01\n",
       "25%      1.490000e+01\n",
       "50%      3.160000e+01\n",
       "75%      1.000000e+02\n",
       "max      9.999900e+04\n",
       "Name: precio, dtype: float64"
      ]
     },
     "execution_count": 41,
     "metadata": {},
     "output_type": "execute_result"
    }
   ],
   "source": [
    "# Debido a que los precios tienen un comportamiento extraño se le saco la descripción para ver un poco de su varianza \n",
    "datos.precio.describe()"
   ]
  },
  {
   "cell_type": "code",
   "execution_count": 42,
   "metadata": {
    "collapsed": true,
    "jupyter": {
     "outputs_hidden": true
    }
   },
   "outputs": [],
   "source": [
    "''' Se transformo la variable de precio debido a que tiene mucha dispersión por lo que se le aplico una tranformación \n",
    "logarítmica para poder conjuntar más los datos'''\n",
    "precios=np.log10(datos.precio)"
   ]
  },
  {
   "cell_type": "code",
   "execution_count": 43,
   "metadata": {
    "collapsed": false,
    "jupyter": {
     "outputs_hidden": false
    }
   },
   "outputs": [
    {
     "data": {
      "text/plain": [
       "{'boxes': [<matplotlib.lines.Line2D at 0x1556d3c8>],\n",
       " 'caps': [<matplotlib.lines.Line2D at 0x164cf080>,\n",
       "  <matplotlib.lines.Line2D at 0x164cf5f8>],\n",
       " 'fliers': [<matplotlib.lines.Line2D at 0x164dd128>],\n",
       " 'means': [],\n",
       " 'medians': [<matplotlib.lines.Line2D at 0x164cfb70>],\n",
       " 'whiskers': [<matplotlib.lines.Line2D at 0x1556d4e0>,\n",
       "  <matplotlib.lines.Line2D at 0x1556dac8>]}"
      ]
     },
     "execution_count": 43,
     "metadata": {},
     "output_type": "execute_result"
    },
    {
     "data": {
      "image/png": "[encoded data removed]",
      "text/plain": [
       "<matplotlib.figure.Figure at 0x12ac6128>"
      ]
     },
     "metadata": {},
     "output_type": "display_data"
    }
   ],
   "source": [
    "plt.boxplot(precios)"
   ]
  },
  {
   "cell_type": "code",
   "execution_count": 44,
   "metadata": {
    "collapsed": false,
    "jupyter": {
     "outputs_hidden": false
    }
   },
   "outputs": [
    {
     "data": {
      "text/plain": [
       "count    4.772308e+06\n",
       "mean     2.067859e+01\n",
       "std      2.287266e+00\n",
       "min      1.703943e+01\n",
       "25%               NaN\n",
       "50%               NaN\n",
       "75%               NaN\n",
       "max      2.914444e+01\n",
       "Name: latitud, dtype: float64"
      ]
     },
     "execution_count": 44,
     "metadata": {},
     "output_type": "execute_result"
    }
   ],
   "source": [
    "# Se saco la descripción de la latitud para ver como se comportaban los datos \n",
    "datos.latitud.describe()"
   ]
  },
  {
   "cell_type": "code",
   "execution_count": 50,
   "metadata": {
    "collapsed": false,
    "jupyter": {
     "outputs_hidden": false
    }
   },
   "outputs": [
    {
     "data": {
      "text/plain": [
       "{'boxes': [<matplotlib.lines.Line2D at 0x181a3048>],\n",
       " 'caps': [<matplotlib.lines.Line2D at 0x1c06b630>,\n",
       "  <matplotlib.lines.Line2D at 0x164dd748>],\n",
       " 'fliers': [<matplotlib.lines.Line2D at 0x1c07b898>],\n",
       " 'means': [],\n",
       " 'medians': [<matplotlib.lines.Line2D at 0x1c07b748>],\n",
       " 'whiskers': [<matplotlib.lines.Line2D at 0x164f7630>,\n",
       "  <matplotlib.lines.Line2D at 0x1c06b8d0>]}"
      ]
     },
     "execution_count": 50,
     "metadata": {},
     "output_type": "execute_result"
    },
    {
     "data": {
      "image/png": "[encoded data removed]",
      "text/plain": [
       "<matplotlib.figure.Figure at 0x1c06be10>"
      ]
     },
     "metadata": {},
     "output_type": "display_data"
    }
   ],
   "source": [
    "latitud=datos.latitud.dropna()\n",
    "plt.boxplot(latitud)"
   ]
  },
  {
   "cell_type": "code",
   "execution_count": 29,
   "metadata": {
    "collapsed": false,
    "jupyter": {
     "outputs_hidden": false
    }
   },
   "outputs": [
    {
     "data": {
      "text/plain": [
       "count    4.772308e+06\n",
       "mean    -9.972081e+01\n",
       "std      4.206325e+00\n",
       "min     -1.110115e+02\n",
       "25%               NaN\n",
       "50%               NaN\n",
       "75%               NaN\n",
       "max     -8.682410e+01\n",
       "Name: longitud, dtype: float64"
      ]
     },
     "execution_count": 29,
     "metadata": {},
     "output_type": "execute_result"
    }
   ],
   "source": [
    "# Se obtuvo la descripción de la longitud \n",
    "datos.longitud.describe()"
   ]
  },
  {
   "cell_type": "code",
   "execution_count": 51,
   "metadata": {
    "collapsed": false,
    "jupyter": {
     "outputs_hidden": false
    }
   },
   "outputs": [
    {
     "data": {
      "text/plain": [
       "{'boxes': [<matplotlib.lines.Line2D at 0x1b0572b0>],\n",
       " 'caps': [<matplotlib.lines.Line2D at 0x1b057f28>,\n",
       "  <matplotlib.lines.Line2D at 0x1b0654e0>],\n",
       " 'fliers': [<matplotlib.lines.Line2D at 0x1b065fd0>],\n",
       " 'means': [],\n",
       " 'medians': [<matplotlib.lines.Line2D at 0x1b065a58>],\n",
       " 'whiskers': [<matplotlib.lines.Line2D at 0x1b0573c8>,\n",
       "  <matplotlib.lines.Line2D at 0x1b0579b0>]}"
      ]
     },
     "execution_count": 51,
     "metadata": {},
     "output_type": "execute_result"
    },
    {
     "data": {
      "image/png": "[encoded data removed]",
      "text/plain": [
       "<matplotlib.figure.Figure at 0x1f0b4f98>"
      ]
     },
     "metadata": {},
     "output_type": "display_data"
    }
   ],
   "source": [
    "longitud=datos.longitud.dropna()\n",
    "plt.boxplot(longitud)"
   ]
  }
 ],
 "metadata": {
  "anaconda-cloud": {},
  "kernelspec": {
   "display_name": "Python 3 (ipykernel)",
   "language": "python",
   "name": "python3"
  },
  "language_info": {
   "codemirror_mode": {
    "name": "ipython",
    "version": 3
   },
   "file_extension": ".py",
   "mimetype": "text/x-python",
   "name": "python",
   "nbconvert_exporter": "python",
   "pygments_lexer": "ipython3",
   "version": "3.13.0"
  }
 },
 "nbformat": 4,
 "nbformat_minor": 4
}
